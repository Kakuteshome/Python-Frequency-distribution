{
 "cells": [
  {
   "cell_type": "code",
   "execution_count": 4,
   "metadata": {},
   "outputs": [],
   "source": [
    "import pandas as pd\n",
    "import numpy as np\n",
    "import matplotlib.pyplot as plt"
   ]
  },
  {
   "cell_type": "markdown",
   "metadata": {},
   "source": [
    "#q44"
   ]
  },
  {
   "cell_type": "code",
   "execution_count": 17,
   "metadata": {},
   "outputs": [
    {
     "name": "stdout",
     "output_type": "stream",
     "text": [
      "Range: 4\n",
      "Average Deviation: 1.0\n",
      "Standard Deviation: 1.3093073414159542\n"
     ]
    }
   ],
   "source": [
    "data = np.array([8,9,8,10,9,10,12,10])\n",
    "mean = np.mean(data)\n",
    "range = np.ptp(data)\n",
    "ad = 0\n",
    "for i in data:\n",
    "    ad+=abs(i-mean)\n",
    "ad = ad/len(data)\n",
    "std = np.std(data,ddof=1)\n",
    "print('Range:',range)\n",
    "print('Average Deviation:',ad)\n",
    "print('Standard Deviation:',std)\n"
   ]
  },
  {
   "cell_type": "markdown",
   "metadata": {},
   "source": [
    "#Q45"
   ]
  },
  {
   "cell_type": "code",
   "execution_count": 18,
   "metadata": {},
   "outputs": [
    {
     "name": "stdout",
     "output_type": "stream",
     "text": [
      "Range: 55\n",
      "Average Deviation: 14.617283950617283\n",
      "Standard Deviation: 18.221629394150728\n"
     ]
    }
   ],
   "source": [
    "data = np.array([21,60,47,54,17,72,55,33,41])\n",
    "mean = np.mean(data)\n",
    "range = np.ptp(data)\n",
    "ad = 0\n",
    "for i in data:\n",
    "    ad+=abs(i-mean)\n",
    "ad = ad/len(data)\n",
    "std = np.std(data,ddof=1)\n",
    "print('Range:',range)\n",
    "print('Average Deviation:',ad)\n",
    "print('Standard Deviation:',std)\n"
   ]
  },
  {
   "cell_type": "markdown",
   "metadata": {},
   "source": [
    "#Q46"
   ]
  },
  {
   "cell_type": "code",
   "execution_count": 14,
   "metadata": {},
   "outputs": [
    {
     "name": "stdout",
     "output_type": "stream",
     "text": [
      "Range: 9\n",
      "Average Deviation: 2.7199999999999998\n",
      "Standard Deviation: 3.5071355833500366\n"
     ]
    }
   ],
   "source": [
    "data = np.array([12,6,7,3,10])\n",
    "mean = np.mean(data)\n",
    "range = np.ptp(data)\n",
    "ad = 0\n",
    "for i in data:\n",
    "    ad+=abs(i-mean)\n",
    "ad = ad/len(data)\n",
    "std = np.std(data,ddof=1)\n",
    "print('Range:',range)\n",
    "print('Average Deviation:',ad)\n",
    "print('Standard Deviation:',std)\n"
   ]
  },
  {
   "cell_type": "markdown",
   "metadata": {},
   "source": [
    "#Q47"
   ]
  },
  {
   "cell_type": "code",
   "execution_count": 21,
   "metadata": {},
   "outputs": [
    {
     "name": "stdout",
     "output_type": "stream",
     "text": [
      "Range: 487000\n",
      "Average Deviation: 167755.10204081633\n",
      "Standard Deviation: 183473.40351102216\n",
      "C.V: 94.92341645063969\n"
     ]
    }
   ],
   "source": [
    "data = np.array([83,510,33,256,401,47,23]) * 1000\n",
    "mean = np.mean(data)\n",
    "range = np.ptp(data)\n",
    "ad = 0\n",
    "for i in data:\n",
    "    ad+=abs(i-mean)\n",
    "ad = ad/len(data)\n",
    "std = np.std(data)\n",
    "print('Range:',range)\n",
    "print('Average Deviation:',ad)\n",
    "print('Standard Deviation:',std)\n",
    "print('C.V:',std*100/mean)"
   ]
  },
  {
   "cell_type": "markdown",
   "metadata": {},
   "source": [
    "#Q48"
   ]
  },
  {
   "cell_type": "code",
   "execution_count": 22,
   "metadata": {},
   "outputs": [
    {
     "name": "stdout",
     "output_type": "stream",
     "text": [
      "Range: 7\n",
      "Average Deviation: 1.9199999999999988\n",
      "Standard Deviation: 2.416609194718914\n",
      "C.V: 3.082409687141472\n"
     ]
    }
   ],
   "source": [
    "data = np.array([74,79,81,80,78])\n",
    "mean = np.mean(data)\n",
    "range = np.ptp(data)\n",
    "ad = 0\n",
    "for i in data:\n",
    "    ad+=abs(i-mean)\n",
    "ad = ad/len(data)\n",
    "std = np.std(data)\n",
    "print('Range:',range)\n",
    "print('Average Deviation:',ad)\n",
    "print('Standard Deviation:',std)\n",
    "print('C.V:',std*100/mean)"
   ]
  },
  {
   "cell_type": "markdown",
   "metadata": {},
   "source": [
    "#Q49"
   ]
  },
  {
   "cell_type": "code",
   "execution_count": 54,
   "metadata": {},
   "outputs": [
    {
     "data": {
      "image/png": "[encoded data removed]",
      "text/plain": [
       "<Figure size 640x480 with 1 Axes>"
      ]
     },
     "metadata": {},
     "output_type": "display_data"
    }
   ],
   "source": [
    "bin_edges = [80,85,90,95,100,105,110]\n",
    "freq,bins,patches = plt.hist(bin_edges[:-1],bin_edges,weights=[6,12,23,35,24,10],edgecolor='black')"
   ]
  },
  {
   "cell_type": "code",
   "execution_count": 84,
   "metadata": {},
   "outputs": [
    {
     "data": {
      "text/html": [
       "<div>\n",
       "<style scoped>\n",
       "    .dataframe tbody tr th:only-of-type {\n",
       "        vertical-align: middle;\n",
       "    }\n",
       "\n",
       "    .dataframe tbody tr th {\n",
       "        vertical-align: top;\n",
       "    }\n",
       "\n",
       "    .dataframe thead th {\n",
       "        text-align: right;\n",
       "    }\n",
       "</style>\n",
       "<table border=\"1\" class=\"dataframe\">\n",
       "  <thead>\n",
       "    <tr style=\"text-align: right;\">\n",
       "      <th></th>\n",
       "      <th>Lower Limit</th>\n",
       "      <th>Upper Limit</th>\n",
       "      <th>Freq</th>\n",
       "      <th>Midpoint</th>\n",
       "      <th>cumsum</th>\n",
       "    </tr>\n",
       "  </thead>\n",
       "  <tbody>\n",
       "    <tr>\n",
       "      <th>0</th>\n",
       "      <td>80</td>\n",
       "      <td>84</td>\n",
       "      <td>6.0</td>\n",
       "      <td>82.0</td>\n",
       "      <td>6.0</td>\n",
       "    </tr>\n",
       "    <tr>\n",
       "      <th>1</th>\n",
       "      <td>85</td>\n",
       "      <td>89</td>\n",
       "      <td>12.0</td>\n",
       "      <td>87.0</td>\n",
       "      <td>18.0</td>\n",
       "    </tr>\n",
       "    <tr>\n",
       "      <th>2</th>\n",
       "      <td>90</td>\n",
       "      <td>94</td>\n",
       "      <td>23.0</td>\n",
       "      <td>92.0</td>\n",
       "      <td>41.0</td>\n",
       "    </tr>\n",
       "    <tr>\n",
       "      <th>3</th>\n",
       "      <td>95</td>\n",
       "      <td>99</td>\n",
       "      <td>35.0</td>\n",
       "      <td>97.0</td>\n",
       "      <td>76.0</td>\n",
       "    </tr>\n",
       "    <tr>\n",
       "      <th>4</th>\n",
       "      <td>100</td>\n",
       "      <td>104</td>\n",
       "      <td>24.0</td>\n",
       "      <td>102.0</td>\n",
       "      <td>100.0</td>\n",
       "    </tr>\n",
       "    <tr>\n",
       "      <th>5</th>\n",
       "      <td>105</td>\n",
       "      <td>109</td>\n",
       "      <td>10.0</td>\n",
       "      <td>107.0</td>\n",
       "      <td>110.0</td>\n",
       "    </tr>\n",
       "  </tbody>\n",
       "</table>\n",
       "</div>"
      ],
      "text/plain": [
       "   Lower Limit  Upper Limit  Freq  Midpoint  cumsum\n",
       "0           80           84   6.0      82.0     6.0\n",
       "1           85           89  12.0      87.0    18.0\n",
       "2           90           94  23.0      92.0    41.0\n",
       "3           95           99  35.0      97.0    76.0\n",
       "4          100          104  24.0     102.0   100.0\n",
       "5          105          109  10.0     107.0   110.0"
      ]
     },
     "execution_count": 84,
     "metadata": {},
     "output_type": "execute_result"
    }
   ],
   "source": [
    "df = pd.DataFrame({'Lower Limit':[80,85,90,95,100,105],'Upper Limit':[84,89,94,99,104,109],'Freq':freq})\n",
    "df['Midpoint'] = (df['Upper Limit'] + df['Lower Limit'])/2\n",
    "df['cumsum'] = df['Freq'].cumsum()\n",
    "range = bins[-1] - bins[0]\n",
    "n = df['Freq'].sum()\n",
    "df"
   ]
  },
  {
   "cell_type": "code",
   "execution_count": 85,
   "metadata": {},
   "outputs": [
    {
     "name": "stdout",
     "output_type": "stream",
     "text": [
      "30.413065374186562\n"
     ]
    }
   ],
   "source": [
    "# Assuming 'n' is the total number of observations\n",
    "n = len(df)\n",
    "\n",
    "# Calculate the mean\n",
    "mean = (df['Midpoint'] * df['Freq']).sum() / df['Freq'].sum()\n",
    "\n",
    "# Calculate the sum of squared differences\n",
    "sum_squared_diff = ((df['Midpoint'] - mean) ** 2 * df['Freq']).sum()\n",
    "\n",
    "# Calculate the variance and take the square root\n",
    "std = np.sqrt(sum_squared_diff / (n - 1))\n",
    "\n",
    "# Result\n",
    "print(std)\n"
   ]
  },
  {
   "cell_type": "code",
   "execution_count": 69,
   "metadata": {},
   "outputs": [
    {
     "data": {
      "text/plain": [
       "92.06521739130434"
      ]
     },
     "execution_count": 69,
     "metadata": {},
     "output_type": "execute_result"
    }
   ],
   "source": [
    "percent = 25\n",
    "p_position  = percent*0.01*df['cumsum'].iloc[-1]\n",
    "p_index = np.argmax(df['cumsum']>p_position)\n",
    "cf = df['cumsum'].iloc[p_index-1]\n",
    "cw = df['Lower Limit'].diff()[1]\n",
    "percentile = df['Lower Limit'].iloc[p_index] + (p_position-cf)*cw/df['Freq'][p_index]\n",
    "percentile"
   ]
  },
  {
   "cell_type": "code",
   "execution_count": 152,
   "metadata": {},
   "outputs": [],
   "source": [
    "\n",
    "def calculate_percentile(df, percent):\n",
    "    p_position = percent * 0.01 * df['cumsum'].iloc[-1]\n",
    "    p_index = np.argmax(df['cumsum'] > p_position)\n",
    "    \n",
    "    cf = df['cumsum'].iloc[p_index - 1]\n",
    "    cw = df['Lower Limit'].diff()[1]\n",
    "    \n",
    "    percentile = df['Lower Limit'].iloc[p_index] + (p_position - cf) * cw / df['Freq'].iloc[p_index]\n",
    "    \n",
    "    return percentile\n",
    "\n",
    "\n",
    "\n",
    "\n",
    "\n",
    "def create_input_dataframe(lower_limits, upper_limit, frequencies):\n",
    "    data = {'Lower Limit': lower_limits, 'Upper Limit': upper_limit, 'Freq': frequencies}\n",
    "    df = pd.DataFrame(data)\n",
    "    \n",
    "    # Add 'cumsum' column\n",
    "    df['cumsum'] = df['Freq'].cumsum()\n",
    "    df['Midpoint'] = (df['Lower Limit'] + df['Upper Limit'])/2\n",
    "    \n",
    "    return df\n"
   ]
  },
  {
   "cell_type": "code",
   "execution_count": 79,
   "metadata": {},
   "outputs": [
    {
     "name": "stdout",
     "output_type": "stream",
     "text": [
      "Range: 29\n",
      "Standard Deviation: nan\n",
      "Interquartile range: 9.288949275362327\n",
      "10-90 percentile range: 17.708333333333343\n"
     ]
    }
   ],
   "source": [
    "print('Range:',df['Upper Limit'].iloc[-1]-df['Lower Limit'].iloc[0])\n",
    "print('Standard Deviation:',std)\n",
    "print('Interquartile range:',calculate_percentile(df,75)-calculate_percentile(df,25))\n",
    "print('10-90 percentile range:',calculate_percentile(df,90)-calculate_percentile(df,10))"
   ]
  },
  {
   "cell_type": "markdown",
   "metadata": {},
   "source": [
    "#q50"
   ]
  },
  {
   "cell_type": "code",
   "execution_count": 105,
   "metadata": {},
   "outputs": [
    {
     "data": {
      "text/html": [
       "<div>\n",
       "<style scoped>\n",
       "    .dataframe tbody tr th:only-of-type {\n",
       "        vertical-align: middle;\n",
       "    }\n",
       "\n",
       "    .dataframe tbody tr th {\n",
       "        vertical-align: top;\n",
       "    }\n",
       "\n",
       "    .dataframe thead th {\n",
       "        text-align: right;\n",
       "    }\n",
       "</style>\n",
       "<table border=\"1\" class=\"dataframe\">\n",
       "  <thead>\n",
       "    <tr style=\"text-align: right;\">\n",
       "      <th></th>\n",
       "      <th>Lower Limit</th>\n",
       "      <th>Upper Limit</th>\n",
       "      <th>Freq</th>\n",
       "      <th>cumsum</th>\n",
       "      <th>Midpoint</th>\n",
       "    </tr>\n",
       "  </thead>\n",
       "  <tbody>\n",
       "    <tr>\n",
       "      <th>0</th>\n",
       "      <td>0</td>\n",
       "      <td>4</td>\n",
       "      <td>4</td>\n",
       "      <td>4</td>\n",
       "      <td>2.0</td>\n",
       "    </tr>\n",
       "    <tr>\n",
       "      <th>1</th>\n",
       "      <td>5</td>\n",
       "      <td>9</td>\n",
       "      <td>15</td>\n",
       "      <td>19</td>\n",
       "      <td>7.0</td>\n",
       "    </tr>\n",
       "    <tr>\n",
       "      <th>2</th>\n",
       "      <td>10</td>\n",
       "      <td>14</td>\n",
       "      <td>27</td>\n",
       "      <td>46</td>\n",
       "      <td>12.0</td>\n",
       "    </tr>\n",
       "    <tr>\n",
       "      <th>3</th>\n",
       "      <td>15</td>\n",
       "      <td>19</td>\n",
       "      <td>18</td>\n",
       "      <td>64</td>\n",
       "      <td>17.0</td>\n",
       "    </tr>\n",
       "    <tr>\n",
       "      <th>4</th>\n",
       "      <td>20</td>\n",
       "      <td>24</td>\n",
       "      <td>6</td>\n",
       "      <td>70</td>\n",
       "      <td>22.0</td>\n",
       "    </tr>\n",
       "  </tbody>\n",
       "</table>\n",
       "</div>"
      ],
      "text/plain": [
       "   Lower Limit  Upper Limit  Freq  cumsum  Midpoint\n",
       "0            0            4     4       4       2.0\n",
       "1            5            9    15      19       7.0\n",
       "2           10           14    27      46      12.0\n",
       "3           15           19    18      64      17.0\n",
       "4           20           24     6      70      22.0"
      ]
     },
     "execution_count": 105,
     "metadata": {},
     "output_type": "execute_result"
    }
   ],
   "source": [
    "df = create_input_dataframe([0,5,10,15,20],[4,9,14,19,24],[4,15,27,18,6])\n"
   ]
  },
  {
   "cell_type": "code",
   "execution_count": 112,
   "metadata": {},
   "outputs": [
    {
     "name": "stdout",
     "output_type": "stream",
     "text": [
      "Range: 24\n",
      "STD: 5.118168830149416\n",
      "Interquartile range: 7.305555555555557\n",
      "20-80 percentile range: 9.444444444444445\n"
     ]
    }
   ],
   "source": [
    "std = np.sqrt((sum(df['Freq']*df['Midpoint']**2) - (sum(df['Freq']*df['Midpoint']))**2/(df['cumsum'].iloc[-1]))/(df['cumsum'].iloc[-1]-1))\n",
    "print('Range:',df['Upper Limit'].iloc[-1] - df['Lower Limit'].iloc[0])\n",
    "print('STD:',std)\n",
    "print('Interquartile range:',calculate_percentile(df,75)-calculate_percentile(df,25))\n",
    "print('20-80 percentile range:',calculate_percentile(df,80)-calculate_percentile(df,20))\n"
   ]
  },
  {
   "cell_type": "markdown",
   "metadata": {},
   "source": [
    "#Q51"
   ]
  },
  {
   "cell_type": "code",
   "execution_count": 113,
   "metadata": {},
   "outputs": [
    {
     "data": {
      "text/html": [
       "<div>\n",
       "<style scoped>\n",
       "    .dataframe tbody tr th:only-of-type {\n",
       "        vertical-align: middle;\n",
       "    }\n",
       "\n",
       "    .dataframe tbody tr th {\n",
       "        vertical-align: top;\n",
       "    }\n",
       "\n",
       "    .dataframe thead th {\n",
       "        text-align: right;\n",
       "    }\n",
       "</style>\n",
       "<table border=\"1\" class=\"dataframe\">\n",
       "  <thead>\n",
       "    <tr style=\"text-align: right;\">\n",
       "      <th></th>\n",
       "      <th>Lower Limit</th>\n",
       "      <th>Upper Limit</th>\n",
       "      <th>Freq</th>\n",
       "      <th>cumsum</th>\n",
       "      <th>Midpoint</th>\n",
       "    </tr>\n",
       "  </thead>\n",
       "  <tbody>\n",
       "    <tr>\n",
       "      <th>0</th>\n",
       "      <td>17</td>\n",
       "      <td>19</td>\n",
       "      <td>4</td>\n",
       "      <td>4</td>\n",
       "      <td>18.0</td>\n",
       "    </tr>\n",
       "    <tr>\n",
       "      <th>1</th>\n",
       "      <td>20</td>\n",
       "      <td>22</td>\n",
       "      <td>9</td>\n",
       "      <td>13</td>\n",
       "      <td>21.0</td>\n",
       "    </tr>\n",
       "    <tr>\n",
       "      <th>2</th>\n",
       "      <td>23</td>\n",
       "      <td>25</td>\n",
       "      <td>13</td>\n",
       "      <td>26</td>\n",
       "      <td>24.0</td>\n",
       "    </tr>\n",
       "    <tr>\n",
       "      <th>3</th>\n",
       "      <td>26</td>\n",
       "      <td>28</td>\n",
       "      <td>20</td>\n",
       "      <td>46</td>\n",
       "      <td>27.0</td>\n",
       "    </tr>\n",
       "    <tr>\n",
       "      <th>4</th>\n",
       "      <td>29</td>\n",
       "      <td>31</td>\n",
       "      <td>15</td>\n",
       "      <td>61</td>\n",
       "      <td>30.0</td>\n",
       "    </tr>\n",
       "    <tr>\n",
       "      <th>5</th>\n",
       "      <td>32</td>\n",
       "      <td>34</td>\n",
       "      <td>7</td>\n",
       "      <td>68</td>\n",
       "      <td>33.0</td>\n",
       "    </tr>\n",
       "    <tr>\n",
       "      <th>6</th>\n",
       "      <td>35</td>\n",
       "      <td>37</td>\n",
       "      <td>5</td>\n",
       "      <td>73</td>\n",
       "      <td>36.0</td>\n",
       "    </tr>\n",
       "    <tr>\n",
       "      <th>7</th>\n",
       "      <td>38</td>\n",
       "      <td>40</td>\n",
       "      <td>5</td>\n",
       "      <td>78</td>\n",
       "      <td>39.0</td>\n",
       "    </tr>\n",
       "    <tr>\n",
       "      <th>8</th>\n",
       "      <td>41</td>\n",
       "      <td>43</td>\n",
       "      <td>2</td>\n",
       "      <td>80</td>\n",
       "      <td>42.0</td>\n",
       "    </tr>\n",
       "  </tbody>\n",
       "</table>\n",
       "</div>"
      ],
      "text/plain": [
       "   Lower Limit  Upper Limit  Freq  cumsum  Midpoint\n",
       "0           17           19     4       4      18.0\n",
       "1           20           22     9      13      21.0\n",
       "2           23           25    13      26      24.0\n",
       "3           26           28    20      46      27.0\n",
       "4           29           31    15      61      30.0\n",
       "5           32           34     7      68      33.0\n",
       "6           35           37     5      73      36.0\n",
       "7           38           40     5      78      39.0\n",
       "8           41           43     2      80      42.0"
      ]
     },
     "execution_count": 113,
     "metadata": {},
     "output_type": "execute_result"
    }
   ],
   "source": [
    "df = create_input_dataframe([17,20,23,26,29,32,35,38,41],[19,22,25,28,31,34,37,40,43],[4,9,13,20,15,7,5,5,2])\n",
    "df"
   ]
  },
  {
   "cell_type": "code",
   "execution_count": 118,
   "metadata": {},
   "outputs": [
    {
     "name": "stdout",
     "output_type": "stream",
     "text": [
      "Range: 26\n",
      "Mean: 28.1625\n",
      "STD: 5.7576448903648325\n",
      "Coeffient of Variation: 20.444367120691815\n",
      "Interquartile range: 7.184615384615384\n",
      "20-80 percentile range: 9.593406593406591\n"
     ]
    }
   ],
   "source": [
    "std = np.sqrt((sum(df['Freq']*df['Midpoint']**2) - (sum(df['Freq']*df['Midpoint']))**2/(df['cumsum'].iloc[-1]))/(df['cumsum'].iloc[-1]-1))\n",
    "mean = sum(df['Midpoint']*df['Freq'])/df['cumsum'].iloc[-1]\n",
    "cv = std*100/mean\n",
    "print('Range:',df['Upper Limit'].iloc[-1] - df['Lower Limit'].iloc[0])\n",
    "print('Mean:',mean)\n",
    "print('STD:',std)\n",
    "print('Coeffient of Variation:',cv)\n",
    "print('Interquartile range:',calculate_percentile(df,75)-calculate_percentile(df,25))\n",
    "print('20-80 percentile range:',calculate_percentile(df,80)-calculate_percentile(df,20))\n"
   ]
  },
  {
   "cell_type": "markdown",
   "metadata": {},
   "source": [
    "#Q56"
   ]
  },
  {
   "cell_type": "code",
   "execution_count": 119,
   "metadata": {},
   "outputs": [
    {
     "data": {
      "text/html": [
       "<div>\n",
       "<style scoped>\n",
       "    .dataframe tbody tr th:only-of-type {\n",
       "        vertical-align: middle;\n",
       "    }\n",
       "\n",
       "    .dataframe tbody tr th {\n",
       "        vertical-align: top;\n",
       "    }\n",
       "\n",
       "    .dataframe thead th {\n",
       "        text-align: right;\n",
       "    }\n",
       "</style>\n",
       "<table border=\"1\" class=\"dataframe\">\n",
       "  <thead>\n",
       "    <tr style=\"text-align: right;\">\n",
       "      <th></th>\n",
       "      <th>Lower Limit</th>\n",
       "      <th>Upper Limit</th>\n",
       "      <th>Freq</th>\n",
       "      <th>cumsum</th>\n",
       "      <th>Midpoint</th>\n",
       "    </tr>\n",
       "  </thead>\n",
       "  <tbody>\n",
       "    <tr>\n",
       "      <th>0</th>\n",
       "      <td>15</td>\n",
       "      <td>24.0</td>\n",
       "      <td>0.8</td>\n",
       "      <td>0.8</td>\n",
       "      <td>19.5</td>\n",
       "    </tr>\n",
       "    <tr>\n",
       "      <th>1</th>\n",
       "      <td>25</td>\n",
       "      <td>34.0</td>\n",
       "      <td>16.9</td>\n",
       "      <td>17.7</td>\n",
       "      <td>29.5</td>\n",
       "    </tr>\n",
       "    <tr>\n",
       "      <th>2</th>\n",
       "      <td>35</td>\n",
       "      <td>44.0</td>\n",
       "      <td>28.2</td>\n",
       "      <td>45.9</td>\n",
       "      <td>39.5</td>\n",
       "    </tr>\n",
       "    <tr>\n",
       "      <th>3</th>\n",
       "      <td>45</td>\n",
       "      <td>54.0</td>\n",
       "      <td>29.3</td>\n",
       "      <td>75.2</td>\n",
       "      <td>49.5</td>\n",
       "    </tr>\n",
       "    <tr>\n",
       "      <th>4</th>\n",
       "      <td>55</td>\n",
       "      <td>64.0</td>\n",
       "      <td>17.5</td>\n",
       "      <td>92.7</td>\n",
       "      <td>59.5</td>\n",
       "    </tr>\n",
       "    <tr>\n",
       "      <th>5</th>\n",
       "      <td>65</td>\n",
       "      <td>inf</td>\n",
       "      <td>7.3</td>\n",
       "      <td>100.0</td>\n",
       "      <td>inf</td>\n",
       "    </tr>\n",
       "  </tbody>\n",
       "</table>\n",
       "</div>"
      ],
      "text/plain": [
       "   Lower Limit  Upper Limit  Freq  cumsum  Midpoint\n",
       "0           15         24.0   0.8     0.8      19.5\n",
       "1           25         34.0  16.9    17.7      29.5\n",
       "2           35         44.0  28.2    45.9      39.5\n",
       "3           45         54.0  29.3    75.2      49.5\n",
       "4           55         64.0  17.5    92.7      59.5\n",
       "5           65          inf   7.3   100.0       inf"
      ]
     },
     "execution_count": 119,
     "metadata": {},
     "output_type": "execute_result"
    }
   ],
   "source": [
    "df = create_input_dataframe([15,25,35,45,55,65],[24,34,44,54,64,float('inf')],[0.8,16.9,28.2,29.3,17.5,7.3])\n",
    "df"
   ]
  },
  {
   "cell_type": "code",
   "execution_count": 125,
   "metadata": {},
   "outputs": [
    {
     "name": "stdout",
     "output_type": "stream",
     "text": [
      "Q1: 37.5886524822695\n",
      "Q3: 54.93174061433447\n",
      "Quartile Deviation: 8.671544066032485\n",
      "10 Percentile: 30.443786982248522\n",
      "90 Percentile: 63.457142857142856\n",
      "10-90 percentile range: 33.01335587489433\n"
     ]
    },
    {
     "name": "stderr",
     "output_type": "stream",
     "text": [
      "C:\\Users\\kakut\\AppData\\Local\\Temp\\ipykernel_7712\\3290685076.py:1: RuntimeWarning: invalid value encountered in double_scalars\n",
      "  std = np.sqrt((sum(df['Freq']*df['Midpoint']**2) - (sum(df['Freq']*df['Midpoint']))**2/(df['cumsum'].iloc[-1]))/(df['cumsum'].iloc[-1]-1))\n"
     ]
    }
   ],
   "source": [
    "print('Q1:',calculate_percentile(df,25))\n",
    "print('Q3:',calculate_percentile(df,75))\n",
    "print('Quartile Deviation:',(calculate_percentile(df,75)-calculate_percentile(df,25))/2)\n",
    "print('10 Percentile:',calculate_percentile(df,10))\n",
    "print('90 Percentile:',calculate_percentile(df,90))\n",
    "print('10-90 percentile range:',calculate_percentile(df,90)-calculate_percentile(df,10))\n"
   ]
  },
  {
   "cell_type": "markdown",
   "metadata": {},
   "source": [
    "#Q57"
   ]
  },
  {
   "cell_type": "code",
   "execution_count": 156,
   "metadata": {},
   "outputs": [
    {
     "data": {
      "text/html": [
       "<div>\n",
       "<style scoped>\n",
       "    .dataframe tbody tr th:only-of-type {\n",
       "        vertical-align: middle;\n",
       "    }\n",
       "\n",
       "    .dataframe tbody tr th {\n",
       "        vertical-align: top;\n",
       "    }\n",
       "\n",
       "    .dataframe thead th {\n",
       "        text-align: right;\n",
       "    }\n",
       "</style>\n",
       "<table border=\"1\" class=\"dataframe\">\n",
       "  <thead>\n",
       "    <tr style=\"text-align: right;\">\n",
       "      <th></th>\n",
       "      <th>Lower Limit</th>\n",
       "      <th>Upper Limit</th>\n",
       "      <th>Freq</th>\n",
       "      <th>cumsum</th>\n",
       "      <th>Midpoint</th>\n",
       "    </tr>\n",
       "  </thead>\n",
       "  <tbody>\n",
       "    <tr>\n",
       "      <th>0</th>\n",
       "      <td>10</td>\n",
       "      <td>14.0</td>\n",
       "      <td>4.7</td>\n",
       "      <td>4.7</td>\n",
       "      <td>12.0</td>\n",
       "    </tr>\n",
       "    <tr>\n",
       "      <th>1</th>\n",
       "      <td>15</td>\n",
       "      <td>19.0</td>\n",
       "      <td>27.8</td>\n",
       "      <td>32.5</td>\n",
       "      <td>17.0</td>\n",
       "    </tr>\n",
       "    <tr>\n",
       "      <th>2</th>\n",
       "      <td>20</td>\n",
       "      <td>24.0</td>\n",
       "      <td>51.6</td>\n",
       "      <td>84.1</td>\n",
       "      <td>22.0</td>\n",
       "    </tr>\n",
       "    <tr>\n",
       "      <th>3</th>\n",
       "      <td>25</td>\n",
       "      <td>inf</td>\n",
       "      <td>15.9</td>\n",
       "      <td>100.0</td>\n",
       "      <td>inf</td>\n",
       "    </tr>\n",
       "  </tbody>\n",
       "</table>\n",
       "</div>"
      ],
      "text/plain": [
       "   Lower Limit  Upper Limit  Freq  cumsum  Midpoint\n",
       "0           10         14.0   4.7     4.7      12.0\n",
       "1           15         19.0  27.8    32.5      17.0\n",
       "2           20         24.0  51.6    84.1      22.0\n",
       "3           25          inf  15.9   100.0       inf"
      ]
     },
     "execution_count": 156,
     "metadata": {},
     "output_type": "execute_result"
    }
   ],
   "source": [
    "df = create_input_dataframe([10,15,20,25],[14,19,24,float('inf')],[4.7,27.8,51.6,15.9])\n",
    "df"
   ]
  },
  {
   "cell_type": "code",
   "execution_count": 157,
   "metadata": {},
   "outputs": [
    {
     "name": "stdout",
     "output_type": "stream",
     "text": [
      "Q1: 18.651079136690647\n",
      "Q3: 24.118217054263567\n",
      "Quartile Deviation: 2.73356895878646\n"
     ]
    }
   ],
   "source": [
    "print('Q1:',calculate_percentile(df,25))\n",
    "print('Q3:',calculate_percentile(df,75))\n",
    "print('Quartile Deviation:',(calculate_percentile(df,75)-calculate_percentile(df,25))/2)"
   ]
  },
  {
   "cell_type": "markdown",
   "metadata": {},
   "source": [
    "#Q58"
   ]
  },
  {
   "cell_type": "code",
   "execution_count": 154,
   "metadata": {},
   "outputs": [
    {
     "data": {
      "text/html": [
       "<div>\n",
       "<style scoped>\n",
       "    .dataframe tbody tr th:only-of-type {\n",
       "        vertical-align: middle;\n",
       "    }\n",
       "\n",
       "    .dataframe tbody tr th {\n",
       "        vertical-align: top;\n",
       "    }\n",
       "\n",
       "    .dataframe thead th {\n",
       "        text-align: right;\n",
       "    }\n",
       "</style>\n",
       "<table border=\"1\" class=\"dataframe\">\n",
       "  <thead>\n",
       "    <tr style=\"text-align: right;\">\n",
       "      <th></th>\n",
       "      <th>Lower Limit</th>\n",
       "      <th>Upper Limit</th>\n",
       "      <th>Freq</th>\n",
       "      <th>cumsum</th>\n",
       "      <th>Midpoint</th>\n",
       "    </tr>\n",
       "  </thead>\n",
       "  <tbody>\n",
       "    <tr>\n",
       "      <th>0</th>\n",
       "      <td>0</td>\n",
       "      <td>5.0</td>\n",
       "      <td>14</td>\n",
       "      <td>14</td>\n",
       "      <td>2.5</td>\n",
       "    </tr>\n",
       "    <tr>\n",
       "      <th>1</th>\n",
       "      <td>6</td>\n",
       "      <td>9.0</td>\n",
       "      <td>42</td>\n",
       "      <td>56</td>\n",
       "      <td>7.5</td>\n",
       "    </tr>\n",
       "    <tr>\n",
       "      <th>2</th>\n",
       "      <td>10</td>\n",
       "      <td>19.0</td>\n",
       "      <td>58</td>\n",
       "      <td>114</td>\n",
       "      <td>14.5</td>\n",
       "    </tr>\n",
       "    <tr>\n",
       "      <th>3</th>\n",
       "      <td>20</td>\n",
       "      <td>29.0</td>\n",
       "      <td>28</td>\n",
       "      <td>142</td>\n",
       "      <td>24.5</td>\n",
       "    </tr>\n",
       "    <tr>\n",
       "      <th>4</th>\n",
       "      <td>30</td>\n",
       "      <td>inf</td>\n",
       "      <td>8</td>\n",
       "      <td>150</td>\n",
       "      <td>inf</td>\n",
       "    </tr>\n",
       "  </tbody>\n",
       "</table>\n",
       "</div>"
      ],
      "text/plain": [
       "   Lower Limit  Upper Limit  Freq  cumsum  Midpoint\n",
       "0            0          5.0    14      14       2.5\n",
       "1            6          9.0    42      56       7.5\n",
       "2           10         19.0    58     114      14.5\n",
       "3           20         29.0    28     142      24.5\n",
       "4           30          inf     8     150       inf"
      ]
     },
     "execution_count": 154,
     "metadata": {},
     "output_type": "execute_result"
    }
   ],
   "source": [
    "df = create_input_dataframe([0,6,10,20,30],[5,9,19,29,float('inf')],[14,42,58,28,8])\n",
    "df"
   ]
  },
  {
   "cell_type": "code",
   "execution_count": 155,
   "metadata": {},
   "outputs": [
    {
     "name": "stdout",
     "output_type": "stream",
     "text": [
      "Q1: 9.357142857142858\n",
      "Q3: 15.844827586206897\n",
      "Quartile Deviation: 3.2438423645320196\n",
      "30th percentile: 10.428571428571429\n",
      "70th percentile: 15.06896551724138\n",
      "30-70 percentile range: 4.640394088669952\n"
     ]
    }
   ],
   "source": [
    "print('Q1:',calculate_percentile(df,25))\n",
    "print('Q3:',calculate_percentile(df,75))\n",
    "print('Quartile Deviation:',(calculate_percentile(df,75)-calculate_percentile(df,25))/2)\n",
    "print('30th percentile:',calculate_percentile(df,30))\n",
    "print('70th percentile:',calculate_percentile(df,70))\n",
    "print('30-70 percentile range:',calculate_percentile(df,70)-calculate_percentile(df,30))"
   ]
  },
  {
   "cell_type": "markdown",
   "metadata": {},
   "source": [
    "#Q59"
   ]
  },
  {
   "cell_type": "code",
   "execution_count": 165,
   "metadata": {},
   "outputs": [
    {
     "data": {
      "text/html": [
       "<div>\n",
       "<style scoped>\n",
       "    .dataframe tbody tr th:only-of-type {\n",
       "        vertical-align: middle;\n",
       "    }\n",
       "\n",
       "    .dataframe tbody tr th {\n",
       "        vertical-align: top;\n",
       "    }\n",
       "\n",
       "    .dataframe thead th {\n",
       "        text-align: right;\n",
       "    }\n",
       "</style>\n",
       "<table border=\"1\" class=\"dataframe\">\n",
       "  <thead>\n",
       "    <tr style=\"text-align: right;\">\n",
       "      <th></th>\n",
       "      <th>Lower Limit</th>\n",
       "      <th>Upper Limit</th>\n",
       "      <th>Freq</th>\n",
       "      <th>cumsum</th>\n",
       "      <th>Midpoint</th>\n",
       "    </tr>\n",
       "  </thead>\n",
       "  <tbody>\n",
       "    <tr>\n",
       "      <th>0</th>\n",
       "      <td>0</td>\n",
       "      <td>5.0</td>\n",
       "      <td>6.9</td>\n",
       "      <td>6.9</td>\n",
       "      <td>2.5</td>\n",
       "    </tr>\n",
       "    <tr>\n",
       "      <th>1</th>\n",
       "      <td>5</td>\n",
       "      <td>10.0</td>\n",
       "      <td>11.5</td>\n",
       "      <td>18.4</td>\n",
       "      <td>7.5</td>\n",
       "    </tr>\n",
       "    <tr>\n",
       "      <th>2</th>\n",
       "      <td>10</td>\n",
       "      <td>15.0</td>\n",
       "      <td>10.6</td>\n",
       "      <td>29.0</td>\n",
       "      <td>12.5</td>\n",
       "    </tr>\n",
       "    <tr>\n",
       "      <th>3</th>\n",
       "      <td>15</td>\n",
       "      <td>25.0</td>\n",
       "      <td>19.2</td>\n",
       "      <td>48.2</td>\n",
       "      <td>20.0</td>\n",
       "    </tr>\n",
       "    <tr>\n",
       "      <th>4</th>\n",
       "      <td>25</td>\n",
       "      <td>35.0</td>\n",
       "      <td>16.1</td>\n",
       "      <td>64.3</td>\n",
       "      <td>30.0</td>\n",
       "    </tr>\n",
       "    <tr>\n",
       "      <th>5</th>\n",
       "      <td>35</td>\n",
       "      <td>50.0</td>\n",
       "      <td>17.2</td>\n",
       "      <td>81.5</td>\n",
       "      <td>42.5</td>\n",
       "    </tr>\n",
       "    <tr>\n",
       "      <th>6</th>\n",
       "      <td>50</td>\n",
       "      <td>75.0</td>\n",
       "      <td>12.2</td>\n",
       "      <td>93.7</td>\n",
       "      <td>62.5</td>\n",
       "    </tr>\n",
       "    <tr>\n",
       "      <th>7</th>\n",
       "      <td>75</td>\n",
       "      <td>inf</td>\n",
       "      <td>6.3</td>\n",
       "      <td>100.0</td>\n",
       "      <td>inf</td>\n",
       "    </tr>\n",
       "  </tbody>\n",
       "</table>\n",
       "</div>"
      ],
      "text/plain": [
       "   Lower Limit  Upper Limit  Freq  cumsum  Midpoint\n",
       "0            0          5.0   6.9     6.9       2.5\n",
       "1            5         10.0  11.5    18.4       7.5\n",
       "2           10         15.0  10.6    29.0      12.5\n",
       "3           15         25.0  19.2    48.2      20.0\n",
       "4           25         35.0  16.1    64.3      30.0\n",
       "5           35         50.0  17.2    81.5      42.5\n",
       "6           50         75.0  12.2    93.7      62.5\n",
       "7           75          inf   6.3   100.0       inf"
      ]
     },
     "execution_count": 165,
     "metadata": {},
     "output_type": "execute_result"
    }
   ],
   "source": [
    "df = create_input_dataframe([0,5,10,15,25,35,50,75],[5,10,15,25,35,50,75,float('inf')],[6.9,11.5,10.6,19.2,16.1,17.2,12.2,6.3])\n",
    "df"
   ]
  },
  {
   "cell_type": "code",
   "execution_count": 166,
   "metadata": {},
   "outputs": [
    {
     "name": "stdout",
     "output_type": "stream",
     "text": [
      "Q1: 13.113207547169814\n",
      "Q3: 38.11046511627907\n",
      "Quartile Deviation: 12.49862878455463\n",
      "20th percentile: 10.754716981132077\n",
      "80th percentile: 39.56395348837209\n",
      "20-80 percentile range: 28.809236507240016\n"
     ]
    }
   ],
   "source": [
    "print('Q1:',calculate_percentile(df,25))\n",
    "print('Q3:',calculate_percentile(df,75))\n",
    "print('Quartile Deviation:',(calculate_percentile(df,75)-calculate_percentile(df,25))/2)\n",
    "print('20th percentile:',calculate_percentile(df,20))\n",
    "print('80th percentile:',calculate_percentile(df,80))\n",
    "print('20-80 percentile range:',calculate_percentile(df,80)-calculate_percentile(df,20))"
   ]
  },
  {
   "cell_type": "markdown",
   "metadata": {},
   "source": [
    "#Q60"
   ]
  },
  {
   "cell_type": "code",
   "execution_count": 167,
   "metadata": {},
   "outputs": [
    {
     "data": {
      "text/plain": [
       "27.00854700854701"
      ]
     },
     "execution_count": 167,
     "metadata": {},
     "output_type": "execute_result"
    }
   ],
   "source": [
    "1580/58.5"
   ]
  },
  {
   "cell_type": "code",
   "execution_count": 172,
   "metadata": {},
   "outputs": [
    {
     "data": {
      "text/plain": [
       "0.84"
      ]
     },
     "execution_count": 172,
     "metadata": {},
     "output_type": "execute_result"
    }
   ],
   "source": [
    "1- 1/2.5**2"
   ]
  },
  {
   "cell_type": "code",
   "execution_count": 173,
   "metadata": {},
   "outputs": [
    {
     "data": {
      "text/plain": [
       "-0.9493670886075949"
      ]
     },
     "execution_count": 173,
     "metadata": {},
     "output_type": "execute_result"
    }
   ],
   "source": [
    "3*(58.5-63.5)/15.8"
   ]
  },
  {
   "cell_type": "code",
   "execution_count": 174,
   "metadata": {},
   "outputs": [
    {
     "data": {
      "text/html": [
       "<div>\n",
       "<style scoped>\n",
       "    .dataframe tbody tr th:only-of-type {\n",
       "        vertical-align: middle;\n",
       "    }\n",
       "\n",
       "    .dataframe tbody tr th {\n",
       "        vertical-align: top;\n",
       "    }\n",
       "\n",
       "    .dataframe thead th {\n",
       "        text-align: right;\n",
       "    }\n",
       "</style>\n",
       "<table border=\"1\" class=\"dataframe\">\n",
       "  <thead>\n",
       "    <tr style=\"text-align: right;\">\n",
       "      <th></th>\n",
       "      <th>Lower Limit</th>\n",
       "      <th>Upper Limit</th>\n",
       "      <th>Freq</th>\n",
       "      <th>cumsum</th>\n",
       "      <th>Midpoint</th>\n",
       "    </tr>\n",
       "  </thead>\n",
       "  <tbody>\n",
       "    <tr>\n",
       "      <th>0</th>\n",
       "      <td>2</td>\n",
       "      <td>5</td>\n",
       "      <td>7</td>\n",
       "      <td>7</td>\n",
       "      <td>3.5</td>\n",
       "    </tr>\n",
       "    <tr>\n",
       "      <th>1</th>\n",
       "      <td>6</td>\n",
       "      <td>9</td>\n",
       "      <td>11</td>\n",
       "      <td>18</td>\n",
       "      <td>7.5</td>\n",
       "    </tr>\n",
       "    <tr>\n",
       "      <th>2</th>\n",
       "      <td>10</td>\n",
       "      <td>13</td>\n",
       "      <td>20</td>\n",
       "      <td>38</td>\n",
       "      <td>11.5</td>\n",
       "    </tr>\n",
       "    <tr>\n",
       "      <th>3</th>\n",
       "      <td>14</td>\n",
       "      <td>17</td>\n",
       "      <td>30</td>\n",
       "      <td>68</td>\n",
       "      <td>15.5</td>\n",
       "    </tr>\n",
       "    <tr>\n",
       "      <th>4</th>\n",
       "      <td>18</td>\n",
       "      <td>21</td>\n",
       "      <td>14</td>\n",
       "      <td>82</td>\n",
       "      <td>19.5</td>\n",
       "    </tr>\n",
       "    <tr>\n",
       "      <th>5</th>\n",
       "      <td>22</td>\n",
       "      <td>25</td>\n",
       "      <td>10</td>\n",
       "      <td>92</td>\n",
       "      <td>23.5</td>\n",
       "    </tr>\n",
       "    <tr>\n",
       "      <th>6</th>\n",
       "      <td>26</td>\n",
       "      <td>29</td>\n",
       "      <td>8</td>\n",
       "      <td>100</td>\n",
       "      <td>27.5</td>\n",
       "    </tr>\n",
       "  </tbody>\n",
       "</table>\n",
       "</div>"
      ],
      "text/plain": [
       "   Lower Limit  Upper Limit  Freq  cumsum  Midpoint\n",
       "0            2            5     7       7       3.5\n",
       "1            6            9    11      18       7.5\n",
       "2           10           13    20      38      11.5\n",
       "3           14           17    30      68      15.5\n",
       "4           18           21    14      82      19.5\n",
       "5           22           25    10      92      23.5\n",
       "6           26           29     8     100      27.5"
      ]
     },
     "execution_count": 174,
     "metadata": {},
     "output_type": "execute_result"
    }
   ],
   "source": [
    "df = create_input_dataframe([2,6,10,14,18,22,26],[5,9,13,17,21,25,29],[7,11,20,30,14,10,8])\n",
    "df"
   ]
  },
  {
   "cell_type": "code",
   "execution_count": 175,
   "metadata": {},
   "outputs": [
    {
     "name": "stdout",
     "output_type": "stream",
     "text": [
      "10-90 percentile range: 18.10909090909091\n"
     ]
    }
   ],
   "source": [
    "print('10-90 percentile range:',calculate_percentile(df,90)-calculate_percentile(df,10))\n"
   ]
  },
  {
   "cell_type": "code",
   "execution_count": 183,
   "metadata": {},
   "outputs": [
    {
     "name": "stdout",
     "output_type": "stream",
     "text": [
      "11.25\n",
      "10.6\n",
      "5.232500000000001\n",
      "0.85247174412655\n"
     ]
    }
   ],
   "source": [
    "a = [9.5,9,11.7,14.8]\n",
    "print(np.mean(a))\n",
    "print(np.median(a))\n",
    "print(np.var(a))\n",
    "print(3*(np.mean(a)-np.median(a))/np.std(a))\n",
    "\n"
   ]
  },
  {
   "cell_type": "code",
   "execution_count": 186,
   "metadata": {},
   "outputs": [
    {
     "name": "stdout",
     "output_type": "stream",
     "text": [
      "5.0\n",
      "4.5\n",
      "3.559026084010437\n",
      "0.4214636152117623\n",
      "CV: 71.18052168020874\n"
     ]
    }
   ],
   "source": [
    "a = [1,4,6,12,5,2]\n",
    "print(np.mean(a))\n",
    "print(np.median(a))\n",
    "print(np.std(a))\n",
    "print(3*(np.mean(a)-np.median(a))/np.std(a))\n",
    "print('CV:',np.std(a)*100/np.mean(a))"
   ]
  },
  {
   "cell_type": "code",
   "execution_count": 215,
   "metadata": {},
   "outputs": [
    {
     "data": {
      "text/html": [
       "<div>\n",
       "<style scoped>\n",
       "    .dataframe tbody tr th:only-of-type {\n",
       "        vertical-align: middle;\n",
       "    }\n",
       "\n",
       "    .dataframe tbody tr th {\n",
       "        vertical-align: top;\n",
       "    }\n",
       "\n",
       "    .dataframe thead th {\n",
       "        text-align: right;\n",
       "    }\n",
       "</style>\n",
       "<table border=\"1\" class=\"dataframe\">\n",
       "  <thead>\n",
       "    <tr style=\"text-align: right;\">\n",
       "      <th></th>\n",
       "      <th>Lower Limit</th>\n",
       "      <th>Upper Limit</th>\n",
       "      <th>Freq</th>\n",
       "    </tr>\n",
       "  </thead>\n",
       "  <tbody>\n",
       "    <tr>\n",
       "      <th>0</th>\n",
       "      <td>3.0</td>\n",
       "      <td>11.6</td>\n",
       "      <td>16.0</td>\n",
       "    </tr>\n",
       "    <tr>\n",
       "      <th>1</th>\n",
       "      <td>11.6</td>\n",
       "      <td>20.2</td>\n",
       "      <td>3.0</td>\n",
       "    </tr>\n",
       "    <tr>\n",
       "      <th>2</th>\n",
       "      <td>20.2</td>\n",
       "      <td>28.8</td>\n",
       "      <td>0.0</td>\n",
       "    </tr>\n",
       "    <tr>\n",
       "      <th>3</th>\n",
       "      <td>28.8</td>\n",
       "      <td>37.4</td>\n",
       "      <td>0.0</td>\n",
       "    </tr>\n",
       "    <tr>\n",
       "      <th>4</th>\n",
       "      <td>37.4</td>\n",
       "      <td>46.0</td>\n",
       "      <td>1.0</td>\n",
       "    </tr>\n",
       "  </tbody>\n",
       "</table>\n",
       "</div>"
      ],
      "text/plain": [
       "   Lower Limit  Upper Limit  Freq\n",
       "0          3.0         11.6  16.0\n",
       "1         11.6         20.2   3.0\n",
       "2         20.2         28.8   0.0\n",
       "3         28.8         37.4   0.0\n",
       "4         37.4         46.0   1.0"
      ]
     },
     "execution_count": 215,
     "metadata": {},
     "output_type": "execute_result"
    },
    {
     "data": {
      "image/png": "[encoded data removed]",
      "text/plain": [
       "<Figure size 640x480 with 1 Axes>"
      ]
     },
     "metadata": {},
     "output_type": "display_data"
    }
   ],
   "source": [
    "size,bins,patches=plt.hist([8,6,3,11,14,8,9,46,9,10,5,11,7,8,8,10,9,12,13,9],bins=5,edgecolor='black')\n",
    "df = pd.DataFrame({'Lower Limit':bins[:-1],'Upper Limit':bins[1:],'Freq':size})\n",
    "df"
   ]
  },
  {
   "cell_type": "code",
   "execution_count": 216,
   "metadata": {},
   "outputs": [
    {
     "data": {
      "text/html": [
       "<div>\n",
       "<style scoped>\n",
       "    .dataframe tbody tr th:only-of-type {\n",
       "        vertical-align: middle;\n",
       "    }\n",
       "\n",
       "    .dataframe tbody tr th {\n",
       "        vertical-align: top;\n",
       "    }\n",
       "\n",
       "    .dataframe thead th {\n",
       "        text-align: right;\n",
       "    }\n",
       "</style>\n",
       "<table border=\"1\" class=\"dataframe\">\n",
       "  <thead>\n",
       "    <tr style=\"text-align: right;\">\n",
       "      <th></th>\n",
       "      <th>Lower Limit</th>\n",
       "      <th>Upper Limit</th>\n",
       "      <th>Freq</th>\n",
       "      <th>Midpoint</th>\n",
       "      <th>cumsum</th>\n",
       "    </tr>\n",
       "  </thead>\n",
       "  <tbody>\n",
       "    <tr>\n",
       "      <th>0</th>\n",
       "      <td>3.0</td>\n",
       "      <td>11.6</td>\n",
       "      <td>16.0</td>\n",
       "      <td>8.8</td>\n",
       "      <td>16.0</td>\n",
       "    </tr>\n",
       "    <tr>\n",
       "      <th>1</th>\n",
       "      <td>11.6</td>\n",
       "      <td>20.2</td>\n",
       "      <td>3.0</td>\n",
       "      <td>21.7</td>\n",
       "      <td>19.0</td>\n",
       "    </tr>\n",
       "    <tr>\n",
       "      <th>2</th>\n",
       "      <td>20.2</td>\n",
       "      <td>28.8</td>\n",
       "      <td>0.0</td>\n",
       "      <td>34.6</td>\n",
       "      <td>19.0</td>\n",
       "    </tr>\n",
       "    <tr>\n",
       "      <th>3</th>\n",
       "      <td>28.8</td>\n",
       "      <td>37.4</td>\n",
       "      <td>0.0</td>\n",
       "      <td>47.5</td>\n",
       "      <td>19.0</td>\n",
       "    </tr>\n",
       "    <tr>\n",
       "      <th>4</th>\n",
       "      <td>37.4</td>\n",
       "      <td>46.0</td>\n",
       "      <td>1.0</td>\n",
       "      <td>60.4</td>\n",
       "      <td>20.0</td>\n",
       "    </tr>\n",
       "  </tbody>\n",
       "</table>\n",
       "</div>"
      ],
      "text/plain": [
       "   Lower Limit  Upper Limit  Freq  Midpoint  cumsum\n",
       "0          3.0         11.6  16.0       8.8    16.0\n",
       "1         11.6         20.2   3.0      21.7    19.0\n",
       "2         20.2         28.8   0.0      34.6    19.0\n",
       "3         28.8         37.4   0.0      47.5    19.0\n",
       "4         37.4         46.0   1.0      60.4    20.0"
      ]
     },
     "execution_count": 216,
     "metadata": {},
     "output_type": "execute_result"
    }
   ],
   "source": [
    "df['Midpoint'] = (df['Lower Limit']+df['Upper Limit']/2)\n",
    "df['cumsum'] = df['Freq'].cumsum()\n",
    "df"
   ]
  },
  {
   "cell_type": "code",
   "execution_count": 217,
   "metadata": {},
   "outputs": [
    {
     "data": {
      "text/plain": [
       "[<matplotlib.lines.Line2D at 0x26c5e261120>]"
      ]
     },
     "execution_count": 217,
     "metadata": {},
     "output_type": "execute_result"
    },
    {
     "data": {
      "image/png": "[encoded data removed]",
      "text/plain": [
       "<Figure size 640x480 with 1 Axes>"
      ]
     },
     "metadata": {},
     "output_type": "display_data"
    }
   ],
   "source": [
    "plt.plot(df['Midpoint'],df['Freq'])"
   ]
  },
  {
   "cell_type": "code",
   "execution_count": 222,
   "metadata": {},
   "outputs": [
    {
     "name": "stdout",
     "output_type": "stream",
     "text": [
      "Mean: 13.315000000000001\n",
      "Median 7.75\n",
      "Range: 43.0\n"
     ]
    }
   ],
   "source": [
    "mean = sum(df['Midpoint']*df['Freq'])/df['Freq'].sum()\n",
    "print('Mean:',mean)\n",
    "print('Median',3+(10)*7.6/(16))\n",
    "print('Range:',df['Upper Limit'].iloc[-1]-df['Lower Limit'].iloc[0])"
   ]
  },
  {
   "cell_type": "code",
   "execution_count": 226,
   "metadata": {},
   "outputs": [
    {
     "name": "stdout",
     "output_type": "stream",
     "text": [
      "Var: 144.9518684210526\n",
      "standard_deviation: 12.03959585787881\n"
     ]
    }
   ],
   "source": [
    "midpoint = df['Midpoint']\n",
    "f = df['Freq']\n",
    "n = sum(df['Freq'])\n",
    "var = (sum(f*midpoint**2) - (sum(f*midpoint)**2)/n)/(n-1)\n",
    "print('Var:',var)\n",
    "print('standard_deviation:',np.sqrt(var))"
   ]
  },
  {
   "cell_type": "code",
   "execution_count": 229,
   "metadata": {},
   "outputs": [
    {
     "data": {
      "text/plain": [
       "array([ 6.        , 10.66666667, 15.33333333, 20.        , 24.66666667,\n",
       "       29.33333333, 34.        ])"
      ]
     },
     "execution_count": 229,
     "metadata": {},
     "output_type": "execute_result"
    },
    {
     "data": {
      "image/png": "[encoded data removed]",
      "text/plain": [
       "<Figure size 640x480 with 1 Axes>"
      ]
     },
     "metadata": {},
     "output_type": "display_data"
    }
   ],
   "source": [
    "a = [8,14,13,34,26,25,15,18,20,24,23,28,15,10,6,28,21,20,12,16,19,20,17,27,22,22,16,23,31,22]\n",
    "freq,bins,patches = plt.hist(x=a,bins=6,edgecolor = 'black')\n",
    "bins"
   ]
  },
  {
   "cell_type": "code",
   "execution_count": 248,
   "metadata": {},
   "outputs": [
    {
     "data": {
      "text/html": [
       "<div>\n",
       "<style scoped>\n",
       "    .dataframe tbody tr th:only-of-type {\n",
       "        vertical-align: middle;\n",
       "    }\n",
       "\n",
       "    .dataframe tbody tr th {\n",
       "        vertical-align: top;\n",
       "    }\n",
       "\n",
       "    .dataframe thead th {\n",
       "        text-align: right;\n",
       "    }\n",
       "</style>\n",
       "<table border=\"1\" class=\"dataframe\">\n",
       "  <thead>\n",
       "    <tr style=\"text-align: right;\">\n",
       "      <th></th>\n",
       "      <th>Lower Limit</th>\n",
       "      <th>Upper Limit</th>\n",
       "      <th>Freq</th>\n",
       "      <th>cumsum</th>\n",
       "      <th>Midpoint</th>\n",
       "    </tr>\n",
       "  </thead>\n",
       "  <tbody>\n",
       "    <tr>\n",
       "      <th>0</th>\n",
       "      <td>6.00</td>\n",
       "      <td>10.67</td>\n",
       "      <td>3.0</td>\n",
       "      <td>3.0</td>\n",
       "      <td>8.33</td>\n",
       "    </tr>\n",
       "    <tr>\n",
       "      <th>1</th>\n",
       "      <td>10.67</td>\n",
       "      <td>15.33</td>\n",
       "      <td>5.0</td>\n",
       "      <td>8.0</td>\n",
       "      <td>13.00</td>\n",
       "    </tr>\n",
       "    <tr>\n",
       "      <th>2</th>\n",
       "      <td>15.33</td>\n",
       "      <td>20.00</td>\n",
       "      <td>5.0</td>\n",
       "      <td>13.0</td>\n",
       "      <td>17.67</td>\n",
       "    </tr>\n",
       "    <tr>\n",
       "      <th>3</th>\n",
       "      <td>20.00</td>\n",
       "      <td>24.67</td>\n",
       "      <td>10.0</td>\n",
       "      <td>23.0</td>\n",
       "      <td>22.33</td>\n",
       "    </tr>\n",
       "    <tr>\n",
       "      <th>4</th>\n",
       "      <td>24.67</td>\n",
       "      <td>29.33</td>\n",
       "      <td>5.0</td>\n",
       "      <td>28.0</td>\n",
       "      <td>27.00</td>\n",
       "    </tr>\n",
       "    <tr>\n",
       "      <th>5</th>\n",
       "      <td>29.33</td>\n",
       "      <td>34.00</td>\n",
       "      <td>2.0</td>\n",
       "      <td>30.0</td>\n",
       "      <td>31.67</td>\n",
       "    </tr>\n",
       "  </tbody>\n",
       "</table>\n",
       "</div>"
      ],
      "text/plain": [
       "   Lower Limit  Upper Limit  Freq  cumsum  Midpoint\n",
       "0         6.00        10.67   3.0     3.0      8.33\n",
       "1        10.67        15.33   5.0     8.0     13.00\n",
       "2        15.33        20.00   5.0    13.0     17.67\n",
       "3        20.00        24.67  10.0    23.0     22.33\n",
       "4        24.67        29.33   5.0    28.0     27.00\n",
       "5        29.33        34.00   2.0    30.0     31.67"
      ]
     },
     "execution_count": 248,
     "metadata": {},
     "output_type": "execute_result"
    }
   ],
   "source": [
    "df = round(create_input_dataframe(bins[:-1],bins[1:],freq),ndigits=2)\n",
    "mean = (df['Midpoint']*df['Freq']).sum()/(df['Freq'].sum()-1)\n",
    "df"
   ]
  },
  {
   "cell_type": "code",
   "execution_count": 250,
   "metadata": {},
   "outputs": [
    {
     "data": {
      "text/plain": [
       "<matplotlib.lines.Line2D at 0x26c62f40670>"
      ]
     },
     "execution_count": 250,
     "metadata": {},
     "output_type": "execute_result"
    },
    {
     "data": {
      "image/png": "[encoded data removed]",
      "text/plain": [
       "<Figure size 640x480 with 1 Axes>"
      ]
     },
     "metadata": {},
     "output_type": "display_data"
    }
   ],
   "source": [
    "plt.plot(df['Upper Limit'],df['cumsum'],marker = 'o')\n",
    "plt.ylim(0)\n",
    "plt.axhline(15)\n",
    "plt.axhline(7.5)\n",
    "plt.axhline(22.5)"
   ]
  },
  {
   "cell_type": "code",
   "execution_count": 249,
   "metadata": {},
   "outputs": [
    {
     "name": "stdout",
     "output_type": "stream",
     "text": [
      "Mean: 20.688965517241378\n"
     ]
    }
   ],
   "source": [
    "print('Mean:',mean)"
   ]
  },
  {
   "cell_type": "code",
   "execution_count": 252,
   "metadata": {},
   "outputs": [
    {
     "name": "stdout",
     "output_type": "stream",
     "text": [
      "Arthimetic mean: 8.819999999999999\n",
      "Geometric mean: 7.478700570898007\n"
     ]
    }
   ],
   "source": [
    "b = [5.2,8.7,3.9,6.8,19.5]\n",
    "print('Arthimetic mean:',np.mean(b))\n",
    "print('Geometric mean:',(np.prod(b))**(1/len(b)))"
   ]
  },
  {
   "cell_type": "code",
   "execution_count": 266,
   "metadata": {},
   "outputs": [
    {
     "data": {
      "text/plain": [
       "0.20239726386152723"
      ]
     },
     "execution_count": 266,
     "metadata": {},
     "output_type": "execute_result"
    }
   ],
   "source": [
    "(284/113)**(1/5) - 1"
   ]
  },
  {
   "cell_type": "code",
   "execution_count": 271,
   "metadata": {},
   "outputs": [
    {
     "data": {
      "text/plain": [
       "[<matplotlib.lines.Line2D at 0x26c6459f280>]"
      ]
     },
     "execution_count": 271,
     "metadata": {},
     "output_type": "execute_result"
    },
    {
     "data": {
      "image/png": "[encoded data removed]",
      "text/plain": [
       "<Figure size 640x480 with 1 Axes>"
      ]
     },
     "metadata": {},
     "output_type": "display_data"
    }
   ],
   "source": [
    "year = np.arange(1986,1992)\n",
    "capital = np.array([4.4,3.4,3,4.4,7.8,8.3,])\n",
    "plt.plot(year,capital,marker = 'H',color = 'green')"
   ]
  },
  {
   "cell_type": "code",
   "execution_count": 291,
   "metadata": {},
   "outputs": [
    {
     "data": {
      "text/plain": [
       "([0, 1, 2, 3, 4],\n",
       " [Text(0, 0, 'Operation'),\n",
       "  Text(1, 0, 'Interest'),\n",
       "  Text(2, 0, 'Joint Ventures'),\n",
       "  Text(3, 0, 'Inventory of Logs'),\n",
       "  Text(4, 0, 'Net income per common share')])"
      ]
     },
     "execution_count": 291,
     "metadata": {},
     "output_type": "execute_result"
    },
    {
     "data": {
      "image/png": "[encoded data removed]",
      "text/plain": [
       "<Figure size 640x480 with 1 Axes>"
      ]
     },
     "metadata": {},
     "output_type": "display_data"
    }
   ],
   "source": [
    "incomes = ['Operation','Interest','Joint Ventures','Inventory of Logs','Net income per common share']\n",
    "year1 = np.array([74.4,2.7,118.5,21.9,0.54])\n",
    "year2 = np.array([123.1,3.3,105,6.6,1.16])\n",
    "colors = ['red' if value < 0 else 'green' for value in (year2-year1)]\n",
    "plt.bar(incomes,(year2-year1)/year1,color = colors)\n",
    "plt.axhline(0,color = 'black')\n",
    "plt.xticks(rotation = 45)"
   ]
  },
  {
   "cell_type": "code",
   "execution_count": 6,
   "metadata": {},
   "outputs": [
    {
     "data": {
      "text/plain": [
       "50"
      ]
     },
     "execution_count": 6,
     "metadata": {},
     "output_type": "execute_result"
    }
   ],
   "source": [
    "c = [124,39,186,116,145,14,52,107,152,187,150,103,142,206,165,289,58,185,117,147,52,136,75,52,158,156,249,202,299,146,203,110,119,58,185,82,298,219,153,186,27,251,156,219,149,248,157,78,148,140]\n",
    "len(c)"
   ]
  },
  {
   "cell_type": "code",
   "execution_count": 14,
   "metadata": {},
   "outputs": [
    {
     "data": {
      "image/png": "[encoded data removed]",
      "text/plain": [
       "<Figure size 640x480 with 1 Axes>"
      ]
     },
     "metadata": {},
     "output_type": "display_data"
    }
   ],
   "source": [
    "n,bins,patches = plt.hist(x=c,color='skyblue', edgecolor='black', alpha=0.7)\n",
    "# Add labels and title\n",
    "plt.xlabel('Values')\n",
    "plt.ylabel('Frequency')\n",
    "plt.title('Histogram with Appealing Features')\n",
    "\n",
    "# Add grid lines\n",
    "plt.grid(axis='y', linestyle='--', alpha=0.7)\n",
    "plt.plot(df['Midpoint'], n, color='orange', marker='o', linestyle='-', linewidth=2, markersize=8, label='Line Plot')\n",
    "\n",
    "\n",
    "# Add a legend\n",
    "plt.axvline(median,label='Median',linestyle='--',color = 'green')\n",
    "plt.axvline(mean,label='Mean',linestyle='--',color = 'blue')\n",
    "plt.legend()\n",
    "\n",
    "# Show the plot\n",
    "plt.show()"
   ]
  },
  {
   "cell_type": "code",
   "execution_count": 8,
   "metadata": {},
   "outputs": [
    {
     "data": {
      "text/html": [
       "<div>\n",
       "<style scoped>\n",
       "    .dataframe tbody tr th:only-of-type {\n",
       "        vertical-align: middle;\n",
       "    }\n",
       "\n",
       "    .dataframe tbody tr th {\n",
       "        vertical-align: top;\n",
       "    }\n",
       "\n",
       "    .dataframe thead th {\n",
       "        text-align: right;\n",
       "    }\n",
       "</style>\n",
       "<table border=\"1\" class=\"dataframe\">\n",
       "  <thead>\n",
       "    <tr style=\"text-align: right;\">\n",
       "      <th></th>\n",
       "      <th>Lower Limit</th>\n",
       "      <th>Upper Limit</th>\n",
       "      <th>Freq</th>\n",
       "      <th>Midpoint</th>\n",
       "      <th>cumsum</th>\n",
       "    </tr>\n",
       "  </thead>\n",
       "  <tbody>\n",
       "    <tr>\n",
       "      <th>0</th>\n",
       "      <td>14.0</td>\n",
       "      <td>42.5</td>\n",
       "      <td>3.0</td>\n",
       "      <td>28.25</td>\n",
       "      <td>3.0</td>\n",
       "    </tr>\n",
       "    <tr>\n",
       "      <th>1</th>\n",
       "      <td>42.5</td>\n",
       "      <td>71.0</td>\n",
       "      <td>5.0</td>\n",
       "      <td>56.75</td>\n",
       "      <td>8.0</td>\n",
       "    </tr>\n",
       "    <tr>\n",
       "      <th>2</th>\n",
       "      <td>71.0</td>\n",
       "      <td>99.5</td>\n",
       "      <td>3.0</td>\n",
       "      <td>85.25</td>\n",
       "      <td>11.0</td>\n",
       "    </tr>\n",
       "    <tr>\n",
       "      <th>3</th>\n",
       "      <td>99.5</td>\n",
       "      <td>128.0</td>\n",
       "      <td>7.0</td>\n",
       "      <td>113.75</td>\n",
       "      <td>18.0</td>\n",
       "    </tr>\n",
       "    <tr>\n",
       "      <th>4</th>\n",
       "      <td>128.0</td>\n",
       "      <td>156.5</td>\n",
       "      <td>13.0</td>\n",
       "      <td>142.25</td>\n",
       "      <td>31.0</td>\n",
       "    </tr>\n",
       "    <tr>\n",
       "      <th>5</th>\n",
       "      <td>156.5</td>\n",
       "      <td>185.0</td>\n",
       "      <td>3.0</td>\n",
       "      <td>170.75</td>\n",
       "      <td>34.0</td>\n",
       "    </tr>\n",
       "    <tr>\n",
       "      <th>6</th>\n",
       "      <td>185.0</td>\n",
       "      <td>213.5</td>\n",
       "      <td>8.0</td>\n",
       "      <td>199.25</td>\n",
       "      <td>42.0</td>\n",
       "    </tr>\n",
       "    <tr>\n",
       "      <th>7</th>\n",
       "      <td>213.5</td>\n",
       "      <td>242.0</td>\n",
       "      <td>2.0</td>\n",
       "      <td>227.75</td>\n",
       "      <td>44.0</td>\n",
       "    </tr>\n",
       "    <tr>\n",
       "      <th>8</th>\n",
       "      <td>242.0</td>\n",
       "      <td>270.5</td>\n",
       "      <td>3.0</td>\n",
       "      <td>256.25</td>\n",
       "      <td>47.0</td>\n",
       "    </tr>\n",
       "    <tr>\n",
       "      <th>9</th>\n",
       "      <td>270.5</td>\n",
       "      <td>299.0</td>\n",
       "      <td>3.0</td>\n",
       "      <td>284.75</td>\n",
       "      <td>50.0</td>\n",
       "    </tr>\n",
       "  </tbody>\n",
       "</table>\n",
       "</div>"
      ],
      "text/plain": [
       "   Lower Limit  Upper Limit  Freq  Midpoint  cumsum\n",
       "0         14.0         42.5   3.0     28.25     3.0\n",
       "1         42.5         71.0   5.0     56.75     8.0\n",
       "2         71.0         99.5   3.0     85.25    11.0\n",
       "3         99.5        128.0   7.0    113.75    18.0\n",
       "4        128.0        156.5  13.0    142.25    31.0\n",
       "5        156.5        185.0   3.0    170.75    34.0\n",
       "6        185.0        213.5   8.0    199.25    42.0\n",
       "7        213.5        242.0   2.0    227.75    44.0\n",
       "8        242.0        270.5   3.0    256.25    47.0\n",
       "9        270.5        299.0   3.0    284.75    50.0"
      ]
     },
     "execution_count": 8,
     "metadata": {},
     "output_type": "execute_result"
    }
   ],
   "source": [
    "df = pd.DataFrame({'Lower Limit':bins[:-1],'Upper Limit':bins[1:],'Freq':n})\n",
    "df['Midpoint'] = (df['Lower Limit'] + df['Upper Limit'])/2\n",
    "df['cumsum']  = df['Freq'].cumsum()\n",
    "df"
   ]
  },
  {
   "cell_type": "code",
   "execution_count": 10,
   "metadata": {},
   "outputs": [
    {
     "data": {
      "text/plain": [
       "149.09"
      ]
     },
     "execution_count": 10,
     "metadata": {},
     "output_type": "execute_result"
    }
   ],
   "source": [
    "mean = (sum(df['Freq']*df['Midpoint']))/(df['cumsum'].iloc[-1])\n",
    "mean"
   ]
  },
  {
   "cell_type": "code",
   "execution_count": 11,
   "metadata": {},
   "outputs": [],
   "source": [
    "\n",
    "def calculate_percentile(df,p):\n",
    "    # Calculate the position of the quartile\n",
    "    p_position = df['cumsum'].iloc[-1] * (p * 0.01)\n",
    "\n",
    "    # Find the index corresponding to the quartile position\n",
    "    p_index = np.argmax(df['cumsum'] >= p_position)\n",
    "\n",
    "    # Extract relevant values from the DataFrame\n",
    "    cf = df['cumsum'].iloc[p_index - 1]\n",
    "    lower_limit_p = df['Lower Limit'].iloc[p_index]\n",
    "    upper_limit_p = df['Lower Limit'].iloc[p_index + 1]\n",
    "    class_freq = df['Freq'].iloc[p_index]\n",
    "\n",
    "    # Calculate the quartile using interpolation\n",
    "    percentile = lower_limit_p + (p_position - cf) * (upper_limit_p - lower_limit_p) / class_freq\n",
    "\n",
    "    return percentile"
   ]
  },
  {
   "cell_type": "code",
   "execution_count": 12,
   "metadata": {},
   "outputs": [],
   "source": [
    "median = calculate_percentile(df,50)"
   ]
  },
  {
   "cell_type": "code",
   "execution_count": 330,
   "metadata": {},
   "outputs": [
    {
     "data": {
      "image/png": "[encoded data removed]",
      "text/plain": [
       "<Figure size 640x480 with 1 Axes>"
      ]
     },
     "metadata": {},
     "output_type": "display_data"
    },
    {
     "data": {
      "text/plain": [
       "(None, '')"
      ]
     },
     "execution_count": 330,
     "metadata": {},
     "output_type": "execute_result"
    }
   ],
   "source": [
    "# Add labels and title\n",
    "plt.xlabel('Values')\n",
    "plt.ylabel('Frequency')\n",
    "plt.title('Histogram with Appealing Features')\n",
    "\n",
    "# Add grid lines\n",
    "plt.grid(axis='y', linestyle='--', alpha=0.7)\n",
    "plt.plot(df['Midpoint'], n, color='orange', marker='o', linestyle='-', linewidth=2, markersize=8, label='Line Plot')\n",
    "plt.hist(x=c,color='skyblue', edgecolor='black', alpha=0.7)\n",
    "\n",
    "\n",
    "# Add a legend\n",
    "plt.legend(['Data Distribution','Histogram'])\n",
    "plt.axvline(median,label='Median',linestyle='--',color = 'green')\n",
    "plt.axvline(mean,label='Median',linestyle='--',color = 'blue')\n",
    "plt.axvline(df['Midpoint'][np.argmax(df['Freq'])],linestyle ='--',color = 'red',label='Mode')\n",
    "\n",
    "# Show the plot\n",
    ",plt.show(),"
   ]
  },
  {
   "cell_type": "code",
   "execution_count": 335,
   "metadata": {},
   "outputs": [
    {
     "name": "stdout",
     "output_type": "stream",
     "text": [
      "Variance is negative. Check the formula or data.\n",
      "Standard Deviation: -468219.6555555556\n",
      "Skewness: nan\n"
     ]
    },
    {
     "name": "stderr",
     "output_type": "stream",
     "text": [
      "C:\\Users\\kakut\\AppData\\Local\\Temp\\ipykernel_7712\\136964602.py:15: RuntimeWarning: invalid value encountered in sqrt\n",
      "  std = np.sqrt(var)\n"
     ]
    }
   ],
   "source": [
    "\n",
    "# Assuming you have already defined midpoint and f from your DataFrame\n",
    "midpoint = df['Midpoint']\n",
    "f = df['Freq']\n",
    "\n",
    "# Calculate mean and median\n",
    "mean = np.mean(midpoint)\n",
    "median = np.median(midpoint)\n",
    "\n",
    "# Calculate variance and standard deviation\n",
    "n = len(f)\n",
    "var = (np.sum(df['Freq'] * (df['Midpoint']**2)) - (np.sum(df['Midpoint'] * df['Freq']))**2 / n) / (n - 1)\n",
    "\n",
    "if var < 0:\n",
    "    print(\"Variance is negative. Check the formula or data.\")\n",
    "std = np.sqrt(var)\n",
    "\n",
    "# Calculate skewness\n",
    "skewnwss = 3 * (mean - median) / std\n",
    "\n",
    "# Print results\n",
    "print('Standard Deviation:', var)\n",
    "print('Skewness:', skewnwss)\n"
   ]
  },
  {
   "cell_type": "code",
   "execution_count": 364,
   "metadata": {},
   "outputs": [],
   "source": [
    "d = [8,30,4,18,20,29,5,36,23,1,16,28,28,11,19,15,9,2,20,18,14,14,5,3,16,1,3,5,23,18,34,20,4,7,13,15,9,33,27,10,15,5,16,6,14,0,20,5,21,10,26,15,13,13,2,23,9,2,4,6,17,15,31,5,33,16,10,34,7,30,14,8,6,13,26,19,16,3,32,23,7,26,22,23,5]"
   ]
  },
  {
   "cell_type": "code",
   "execution_count": 349,
   "metadata": {},
   "outputs": [
    {
     "data": {
      "image/png": "[encoded data removed]",
      "text/plain": [
       "<Figure size 640x480 with 1 Axes>"
      ]
     },
     "metadata": {},
     "output_type": "display_data"
    }
   ],
   "source": [
    "n,bins,patches = plt.hist(x=d,edgecolor = 'black')"
   ]
  },
  {
   "cell_type": "code",
   "execution_count": 351,
   "metadata": {},
   "outputs": [
    {
     "data": {
      "text/html": [
       "<div>\n",
       "<style scoped>\n",
       "    .dataframe tbody tr th:only-of-type {\n",
       "        vertical-align: middle;\n",
       "    }\n",
       "\n",
       "    .dataframe tbody tr th {\n",
       "        vertical-align: top;\n",
       "    }\n",
       "\n",
       "    .dataframe thead th {\n",
       "        text-align: right;\n",
       "    }\n",
       "</style>\n",
       "<table border=\"1\" class=\"dataframe\">\n",
       "  <thead>\n",
       "    <tr style=\"text-align: right;\">\n",
       "      <th></th>\n",
       "      <th>Lower Limit</th>\n",
       "      <th>Upper Limit</th>\n",
       "      <th>Freq</th>\n",
       "      <th>Midpoint</th>\n",
       "      <th>cumsum</th>\n",
       "    </tr>\n",
       "  </thead>\n",
       "  <tbody>\n",
       "    <tr>\n",
       "      <th>0</th>\n",
       "      <td>0.0</td>\n",
       "      <td>3.6</td>\n",
       "      <td>9.0</td>\n",
       "      <td>1.8</td>\n",
       "      <td>9.0</td>\n",
       "    </tr>\n",
       "    <tr>\n",
       "      <th>1</th>\n",
       "      <td>3.6</td>\n",
       "      <td>7.2</td>\n",
       "      <td>16.0</td>\n",
       "      <td>5.4</td>\n",
       "      <td>25.0</td>\n",
       "    </tr>\n",
       "    <tr>\n",
       "      <th>2</th>\n",
       "      <td>7.2</td>\n",
       "      <td>10.8</td>\n",
       "      <td>8.0</td>\n",
       "      <td>9.0</td>\n",
       "      <td>33.0</td>\n",
       "    </tr>\n",
       "    <tr>\n",
       "      <th>3</th>\n",
       "      <td>10.8</td>\n",
       "      <td>14.4</td>\n",
       "      <td>9.0</td>\n",
       "      <td>12.6</td>\n",
       "      <td>42.0</td>\n",
       "    </tr>\n",
       "    <tr>\n",
       "      <th>4</th>\n",
       "      <td>14.4</td>\n",
       "      <td>18.0</td>\n",
       "      <td>11.0</td>\n",
       "      <td>16.2</td>\n",
       "      <td>53.0</td>\n",
       "    </tr>\n",
       "    <tr>\n",
       "      <th>5</th>\n",
       "      <td>18.0</td>\n",
       "      <td>21.6</td>\n",
       "      <td>10.0</td>\n",
       "      <td>19.8</td>\n",
       "      <td>63.0</td>\n",
       "    </tr>\n",
       "    <tr>\n",
       "      <th>6</th>\n",
       "      <td>21.6</td>\n",
       "      <td>25.2</td>\n",
       "      <td>6.0</td>\n",
       "      <td>23.4</td>\n",
       "      <td>69.0</td>\n",
       "    </tr>\n",
       "    <tr>\n",
       "      <th>7</th>\n",
       "      <td>25.2</td>\n",
       "      <td>28.8</td>\n",
       "      <td>6.0</td>\n",
       "      <td>27.0</td>\n",
       "      <td>75.0</td>\n",
       "    </tr>\n",
       "    <tr>\n",
       "      <th>8</th>\n",
       "      <td>28.8</td>\n",
       "      <td>32.4</td>\n",
       "      <td>5.0</td>\n",
       "      <td>30.6</td>\n",
       "      <td>80.0</td>\n",
       "    </tr>\n",
       "    <tr>\n",
       "      <th>9</th>\n",
       "      <td>32.4</td>\n",
       "      <td>36.0</td>\n",
       "      <td>5.0</td>\n",
       "      <td>34.2</td>\n",
       "      <td>85.0</td>\n",
       "    </tr>\n",
       "  </tbody>\n",
       "</table>\n",
       "</div>"
      ],
      "text/plain": [
       "   Lower Limit  Upper Limit  Freq  Midpoint  cumsum\n",
       "0          0.0          3.6   9.0       1.8     9.0\n",
       "1          3.6          7.2  16.0       5.4    25.0\n",
       "2          7.2         10.8   8.0       9.0    33.0\n",
       "3         10.8         14.4   9.0      12.6    42.0\n",
       "4         14.4         18.0  11.0      16.2    53.0\n",
       "5         18.0         21.6  10.0      19.8    63.0\n",
       "6         21.6         25.2   6.0      23.4    69.0\n",
       "7         25.2         28.8   6.0      27.0    75.0\n",
       "8         28.8         32.4   5.0      30.6    80.0\n",
       "9         32.4         36.0   5.0      34.2    85.0"
      ]
     },
     "execution_count": 351,
     "metadata": {},
     "output_type": "execute_result"
    }
   ],
   "source": [
    "df = pd.DataFrame({'Lower Limit':bins[:-1],'Upper Limit':bins[1:],'Freq':n})\n",
    "df['Midpoint'] = (df['Lower Limit']+df['Upper Limit'])/2\n",
    "df['cumsum'] = df['Freq'].cumsum()\n",
    "df"
   ]
  },
  {
   "cell_type": "code",
   "execution_count": 352,
   "metadata": {},
   "outputs": [
    {
     "data": {
      "text/plain": [
       "5.4"
      ]
     },
     "execution_count": 352,
     "metadata": {},
     "output_type": "execute_result"
    }
   ],
   "source": [
    "mean = sum(df['Freq']*df['Midpoint'])/(df['cumsum'].iloc[-1])\n",
    "median = calculate_percentile(df,50)\n",
    "mode = df['Midpoint'][(np.argmax(df['Freq']))]\n",
    "mode"
   ]
  },
  {
   "cell_type": "code",
   "execution_count": 353,
   "metadata": {},
   "outputs": [
    {
     "name": "stdout",
     "output_type": "stream",
     "text": [
      "Standard Deviation: 15443.963999999998\n",
      "Skewness: 0.014964376635640658\n"
     ]
    }
   ],
   "source": [
    "\n",
    "# Assuming you have already defined midpoint and f from your DataFrame\n",
    "midpoint = df['Midpoint']\n",
    "f = df['Freq']\n",
    "\n",
    "# Calculate variance and standard deviation\n",
    "n = len(f)\n",
    "var = ((np.sum(df['Midpoint'] * df['Freq']))**2 / n - np.sum(df['Freq'] * (df['Midpoint']**2))) / (n - 1)\n",
    "\n",
    "if var < 0:\n",
    "    print(\"Variance is negative. Check the formula or data.\")\n",
    "std = np.sqrt(var)\n",
    "\n",
    "# Calculate skewness\n",
    "skewnwss = 3 * (mean - median) / std\n",
    "\n",
    "# Print results\n",
    "print('Standard Deviation:', var)\n",
    "print('Skewness:', skewnwss)\n"
   ]
  },
  {
   "cell_type": "code",
   "execution_count": 376,
   "metadata": {},
   "outputs": [
    {
     "data": {
      "image/png": "[encoded data removed]",
      "text/plain": [
       "<Figure size 640x480 with 1 Axes>"
      ]
     },
     "metadata": {},
     "output_type": "display_data"
    },
    {
     "data": {
      "text/plain": [
       "(None,)"
      ]
     },
     "execution_count": 376,
     "metadata": {},
     "output_type": "execute_result"
    }
   ],
   "source": [
    "# Add labels and title\n",
    "plt.xlabel('Values')\n",
    "plt.ylabel('Frequency')\n",
    "plt.title('Histogram with Appealing Features')\n",
    "\n",
    "# Add grid lines\n",
    "plt.grid(axis='y', linestyle='--', alpha=0.7)\n",
    "plt.plot(df['Midpoint'], df['Freq'], color='orange', marker='o', linestyle='-', linewidth=2, markersize=8, label='Line Plot')\n",
    "plt.hist(d,color='skyblue', edgecolor='black', alpha=0.7)\n",
    "\n",
    "\n",
    "# Add a legend\n",
    "plt.axvline(median,label='Median',linestyle='--',color = 'green')\n",
    "plt.axvline(mean,label='Median',linestyle='--',color = 'blue')\n",
    "plt.axvline(df['Midpoint'][np.argmax(df['Freq'])],linestyle ='--',color = 'red',label='Mode')\n",
    "plt.legend()\n",
    "\n",
    "# Show the plot\n",
    "plt.show(),"
   ]
  },
  {
   "cell_type": "code",
   "execution_count": 383,
   "metadata": {},
   "outputs": [],
   "source": [
    "e = [11.1,18.9,14.4,9.5,17.1,11.1,10.5,17.7,14.3,11.1,13.6,12.2,11.9,13.8,13.2,13.2,11.2,11.9,12.3,11.8,13.2,10.7,14.7,12.7,13.8,13.7,13.5,16.8,11.4,16.6,15.1,12.4,10.7,15.1,15.4,17.5,15.9,12.2,12.8,19.2,12.9,14.1,18.3,13.9,15.4,15.1,13.2,14.7,11.1,14.7,14.5]"
   ]
  },
  {
   "cell_type": "code",
   "execution_count": 386,
   "metadata": {},
   "outputs": [
    {
     "data": {
      "image/png": "[encoded data removed]",
      "text/plain": [
       "<Figure size 640x480 with 1 Axes>"
      ]
     },
     "metadata": {},
     "output_type": "display_data"
    }
   ],
   "source": [
    "n,bins,patch = plt.hist(x=e,edgecolor = 'black')"
   ]
  },
  {
   "cell_type": "code",
   "execution_count": 391,
   "metadata": {},
   "outputs": [
    {
     "data": {
      "text/html": [
       "<div>\n",
       "<style scoped>\n",
       "    .dataframe tbody tr th:only-of-type {\n",
       "        vertical-align: middle;\n",
       "    }\n",
       "\n",
       "    .dataframe tbody tr th {\n",
       "        vertical-align: top;\n",
       "    }\n",
       "\n",
       "    .dataframe thead th {\n",
       "        text-align: right;\n",
       "    }\n",
       "</style>\n",
       "<table border=\"1\" class=\"dataframe\">\n",
       "  <thead>\n",
       "    <tr style=\"text-align: right;\">\n",
       "      <th></th>\n",
       "      <th>Lower Limit</th>\n",
       "      <th>Upper Limit</th>\n",
       "      <th>Freq</th>\n",
       "      <th>Midpoint</th>\n",
       "      <th>cumsum</th>\n",
       "    </tr>\n",
       "  </thead>\n",
       "  <tbody>\n",
       "    <tr>\n",
       "      <th>0</th>\n",
       "      <td>9.50</td>\n",
       "      <td>10.47</td>\n",
       "      <td>1.0</td>\n",
       "      <td>9.985</td>\n",
       "      <td>1.0</td>\n",
       "    </tr>\n",
       "    <tr>\n",
       "      <th>1</th>\n",
       "      <td>10.47</td>\n",
       "      <td>11.44</td>\n",
       "      <td>9.0</td>\n",
       "      <td>10.955</td>\n",
       "      <td>10.0</td>\n",
       "    </tr>\n",
       "    <tr>\n",
       "      <th>2</th>\n",
       "      <td>11.44</td>\n",
       "      <td>12.41</td>\n",
       "      <td>7.0</td>\n",
       "      <td>11.925</td>\n",
       "      <td>17.0</td>\n",
       "    </tr>\n",
       "    <tr>\n",
       "      <th>3</th>\n",
       "      <td>12.41</td>\n",
       "      <td>13.38</td>\n",
       "      <td>7.0</td>\n",
       "      <td>12.895</td>\n",
       "      <td>24.0</td>\n",
       "    </tr>\n",
       "    <tr>\n",
       "      <th>4</th>\n",
       "      <td>13.38</td>\n",
       "      <td>14.35</td>\n",
       "      <td>8.0</td>\n",
       "      <td>13.865</td>\n",
       "      <td>32.0</td>\n",
       "    </tr>\n",
       "    <tr>\n",
       "      <th>5</th>\n",
       "      <td>14.35</td>\n",
       "      <td>15.32</td>\n",
       "      <td>8.0</td>\n",
       "      <td>14.835</td>\n",
       "      <td>40.0</td>\n",
       "    </tr>\n",
       "    <tr>\n",
       "      <th>6</th>\n",
       "      <td>15.32</td>\n",
       "      <td>16.29</td>\n",
       "      <td>3.0</td>\n",
       "      <td>15.805</td>\n",
       "      <td>43.0</td>\n",
       "    </tr>\n",
       "    <tr>\n",
       "      <th>7</th>\n",
       "      <td>16.29</td>\n",
       "      <td>17.26</td>\n",
       "      <td>3.0</td>\n",
       "      <td>16.775</td>\n",
       "      <td>46.0</td>\n",
       "    </tr>\n",
       "    <tr>\n",
       "      <th>8</th>\n",
       "      <td>17.26</td>\n",
       "      <td>18.23</td>\n",
       "      <td>2.0</td>\n",
       "      <td>17.745</td>\n",
       "      <td>48.0</td>\n",
       "    </tr>\n",
       "    <tr>\n",
       "      <th>9</th>\n",
       "      <td>18.23</td>\n",
       "      <td>19.20</td>\n",
       "      <td>3.0</td>\n",
       "      <td>18.715</td>\n",
       "      <td>51.0</td>\n",
       "    </tr>\n",
       "  </tbody>\n",
       "</table>\n",
       "</div>"
      ],
      "text/plain": [
       "   Lower Limit  Upper Limit  Freq  Midpoint  cumsum\n",
       "0         9.50        10.47   1.0     9.985     1.0\n",
       "1        10.47        11.44   9.0    10.955    10.0\n",
       "2        11.44        12.41   7.0    11.925    17.0\n",
       "3        12.41        13.38   7.0    12.895    24.0\n",
       "4        13.38        14.35   8.0    13.865    32.0\n",
       "5        14.35        15.32   8.0    14.835    40.0\n",
       "6        15.32        16.29   3.0    15.805    43.0\n",
       "7        16.29        17.26   3.0    16.775    46.0\n",
       "8        17.26        18.23   2.0    17.745    48.0\n",
       "9        18.23        19.20   3.0    18.715    51.0"
      ]
     },
     "execution_count": 391,
     "metadata": {},
     "output_type": "execute_result"
    }
   ],
   "source": [
    "df = pd.DataFrame({'Lower Limit':bins[:-1],'Upper Limit':bins[1:],'Freq':n})\n",
    "df['Midpoint'] = (df['Lower Limit']+df['Upper Limit'])/2\n",
    "df['cumsum'] = df['Freq'].cumsum()\n",
    "df"
   ]
  },
  {
   "cell_type": "code",
   "execution_count": 394,
   "metadata": {},
   "outputs": [
    {
     "data": {
      "text/plain": [
       "10.955"
      ]
     },
     "execution_count": 394,
     "metadata": {},
     "output_type": "execute_result"
    }
   ],
   "source": [
    "mean = sum(df['Midpoint']*df['Freq'])/df['cumsum'].iloc[-1]\n",
    "median = calculate_percentile(df,50)\n",
    "mode = df['Midpoint'][np.argmax(df['Freq'])]\n"
   ]
  },
  {
   "cell_type": "code",
   "execution_count": 396,
   "metadata": {},
   "outputs": [
    {
     "data": {
      "image/png": "[encoded data removed]",
      "text/plain": [
       "<Figure size 640x480 with 1 Axes>"
      ]
     },
     "metadata": {},
     "output_type": "display_data"
    },
    {
     "data": {
      "text/plain": [
       "(None,)"
      ]
     },
     "execution_count": 396,
     "metadata": {},
     "output_type": "execute_result"
    }
   ],
   "source": [
    "# Add labels and title\n",
    "plt.xlabel('Values')\n",
    "plt.ylabel('Frequency')\n",
    "plt.title('Histogram with Appealing Features')\n",
    "\n",
    "# Add grid lines\n",
    "plt.grid(axis='y', linestyle='--', alpha=0.7)\n",
    "plt.plot(df['Midpoint'], df['Freq'], color='orange', marker='o', linestyle='-', linewidth=2, markersize=8, label='Line Plot')\n",
    "plt.hist(e,color='skyblue', edgecolor='black', alpha=0.7)\n",
    "\n",
    "\n",
    "# Add a legend\n",
    "plt.axvline(median,label='Median',linestyle='--',color = 'green')\n",
    "plt.axvline(mean,label='Median',linestyle='--',color = 'blue')\n",
    "plt.axvline(df['Midpoint'][np.argmax(df['Freq'])],linestyle ='--',color = 'red',label='Mode')\n",
    "plt.legend()\n",
    "\n",
    "# Show the plot\n",
    "plt.show(),"
   ]
  },
  {
   "cell_type": "code",
   "execution_count": 406,
   "metadata": {},
   "outputs": [
    {
     "name": "stdout",
     "output_type": "stream",
     "text": [
      "Variance 5.313066666666669\n",
      "Srandard Deviation: 2.3050090383047674\n",
      "Skewness: 0.24599559021276363\n",
      "Mean: 13.750882352941177\n"
     ]
    }
   ],
   "source": [
    "var = np.var(e,ddof=1) \n",
    "std = np.sqrt(var)\n",
    "skewness = 3*(mean - median)/std\n",
    "print('Variance',var)\n",
    "print('Srandard Deviation:',std)\n",
    "print('Skewness:',skewness)\n",
    "print('Mean:',mean)"
   ]
  },
  {
   "cell_type": "code",
   "execution_count": 6,
   "metadata": {},
   "outputs": [
    {
     "data": {
      "text/html": [
       "<div>\n",
       "<style scoped>\n",
       "    .dataframe tbody tr th:only-of-type {\n",
       "        vertical-align: middle;\n",
       "    }\n",
       "\n",
       "    .dataframe tbody tr th {\n",
       "        vertical-align: top;\n",
       "    }\n",
       "\n",
       "    .dataframe thead th {\n",
       "        text-align: right;\n",
       "    }\n",
       "</style>\n",
       "<table border=\"1\" class=\"dataframe\">\n",
       "  <thead>\n",
       "    <tr style=\"text-align: right;\">\n",
       "      <th></th>\n",
       "      <th>Lower Limit</th>\n",
       "      <th>Upper Limit</th>\n",
       "      <th>Women</th>\n",
       "      <th>Men</th>\n",
       "      <th>cumsum_men</th>\n",
       "      <th>cumsum_women</th>\n",
       "      <th>Midpoint</th>\n",
       "    </tr>\n",
       "  </thead>\n",
       "  <tbody>\n",
       "    <tr>\n",
       "      <th>0</th>\n",
       "      <td>0</td>\n",
       "      <td>2999.0</td>\n",
       "      <td>533</td>\n",
       "      <td>924</td>\n",
       "      <td>924</td>\n",
       "      <td>533</td>\n",
       "      <td>1499.5</td>\n",
       "    </tr>\n",
       "    <tr>\n",
       "      <th>1</th>\n",
       "      <td>3000</td>\n",
       "      <td>4999.0</td>\n",
       "      <td>401</td>\n",
       "      <td>422</td>\n",
       "      <td>1346</td>\n",
       "      <td>934</td>\n",
       "      <td>3999.5</td>\n",
       "    </tr>\n",
       "    <tr>\n",
       "      <th>2</th>\n",
       "      <td>5000</td>\n",
       "      <td>6999.0</td>\n",
       "      <td>1108</td>\n",
       "      <td>814</td>\n",
       "      <td>2160</td>\n",
       "      <td>2042</td>\n",
       "      <td>5999.5</td>\n",
       "    </tr>\n",
       "    <tr>\n",
       "      <th>3</th>\n",
       "      <td>7000</td>\n",
       "      <td>9999.0</td>\n",
       "      <td>3218</td>\n",
       "      <td>2233</td>\n",
       "      <td>4393</td>\n",
       "      <td>5260</td>\n",
       "      <td>8499.5</td>\n",
       "    </tr>\n",
       "    <tr>\n",
       "      <th>4</th>\n",
       "      <td>10000</td>\n",
       "      <td>14999.0</td>\n",
       "      <td>7527</td>\n",
       "      <td>5872</td>\n",
       "      <td>10265</td>\n",
       "      <td>12787</td>\n",
       "      <td>12499.5</td>\n",
       "    </tr>\n",
       "    <tr>\n",
       "      <th>5</th>\n",
       "      <td>15000</td>\n",
       "      <td>19999.0</td>\n",
       "      <td>5926</td>\n",
       "      <td>6621</td>\n",
       "      <td>16886</td>\n",
       "      <td>18713</td>\n",
       "      <td>17499.5</td>\n",
       "    </tr>\n",
       "    <tr>\n",
       "      <th>6</th>\n",
       "      <td>20000</td>\n",
       "      <td>24999.0</td>\n",
       "      <td>4085</td>\n",
       "      <td>6425</td>\n",
       "      <td>23311</td>\n",
       "      <td>22798</td>\n",
       "      <td>22499.5</td>\n",
       "    </tr>\n",
       "    <tr>\n",
       "      <th>7</th>\n",
       "      <td>25000</td>\n",
       "      <td>49999.0</td>\n",
       "      <td>4297</td>\n",
       "      <td>17489</td>\n",
       "      <td>40800</td>\n",
       "      <td>27095</td>\n",
       "      <td>37499.5</td>\n",
       "    </tr>\n",
       "    <tr>\n",
       "      <th>8</th>\n",
       "      <td>50000</td>\n",
       "      <td>inf</td>\n",
       "      <td>289</td>\n",
       "      <td>4141</td>\n",
       "      <td>44941</td>\n",
       "      <td>27384</td>\n",
       "      <td>inf</td>\n",
       "    </tr>\n",
       "  </tbody>\n",
       "</table>\n",
       "</div>"
      ],
      "text/plain": [
       "   Lower Limit  Upper Limit  Women    Men  cumsum_men  cumsum_women  Midpoint\n",
       "0            0       2999.0    533    924         924           533    1499.5\n",
       "1         3000       4999.0    401    422        1346           934    3999.5\n",
       "2         5000       6999.0   1108    814        2160          2042    5999.5\n",
       "3         7000       9999.0   3218   2233        4393          5260    8499.5\n",
       "4        10000      14999.0   7527   5872       10265         12787   12499.5\n",
       "5        15000      19999.0   5926   6621       16886         18713   17499.5\n",
       "6        20000      24999.0   4085   6425       23311         22798   22499.5\n",
       "7        25000      49999.0   4297  17489       40800         27095   37499.5\n",
       "8        50000          inf    289   4141       44941         27384       inf"
      ]
     },
     "execution_count": 6,
     "metadata": {},
     "output_type": "execute_result"
    }
   ],
   "source": [
    "ll = np.array([0,3,5,7,10,15,20,25,50])*1000\n",
    "ul = np.array([2999,4999,6999,9999,14999,19999,24999,49999,float('inf')])\n",
    "women = np.array([533,401,1108,3218,7527,5926,4085,4297,289])\n",
    "men = np.array([924,422,814,2233,5872,6621,6425,17489,4141])\n",
    "df = pd.DataFrame({'Lower Limit':ll,'Upper Limit':ul,'Women':women,'Men':men})\n",
    "df['cumsum_men'] = df['Men'].cumsum()\n",
    "df['cumsum_women'] = df['Women'].cumsum()\n",
    "df['Midpoint'] = (df['Lower Limit']+df['Upper Limit'])/2\n",
    "df"
   ]
  },
  {
   "cell_type": "code",
   "execution_count": 7,
   "metadata": {},
   "outputs": [
    {
     "data": {
      "text/plain": [
       "(0.0, 54000.0)"
      ]
     },
     "execution_count": 7,
     "metadata": {},
     "output_type": "execute_result"
    },
    {
     "data": {
      "image/png": "[encoded data removed]",
      "text/plain": [
       "<Figure size 640x480 with 1 Axes>"
      ]
     },
     "metadata": {},
     "output_type": "display_data"
    }
   ],
   "source": [
    "bins = np.append(df['Lower Limit'],100000)\n",
    "plt.hist(bins[:-1],bins,weights=df['Men'],edgecolor = 'black')\n",
    "plt.xlim(0,54000)"
   ]
  },
  {
   "cell_type": "code",
   "execution_count": 22,
   "metadata": {},
   "outputs": [
    {
     "data": {
      "image/png": "[encoded data removed]",
      "text/plain": [
       "<Figure size 640x480 with 1 Axes>"
      ]
     },
     "metadata": {},
     "output_type": "display_data"
    }
   ],
   "source": [
    "plt.hist(bins[:-1],bins,weights=df['Men'],edgecolor = 'black')\n",
    "\n",
    "# Add labels and title\n",
    "plt.xlabel('Values')\n",
    "plt.ylabel('Frequency')\n",
    "plt.title('Histogram with Appealing Features')\n",
    "\n",
    "# Add grid lines\n",
    "plt.grid(axis='y', linestyle='--', alpha=0.7)\n",
    "plt.plot(df['Midpoint'], df['Men'], color='orange', marker='o', linestyle='-', linewidth=2, markersize=8, label='Line Plot')\n",
    "plt.hist(bins[:-1],bins,weights=df['Men'],edgecolor = 'black')\n",
    "\n",
    "\n",
    "# Add a legend\n",
    "plt.axvline(calculate_percentile_men(df,50),label='Median',linestyle='--',color = 'green')\n",
    "plt.axvline(df['Midpoint'][np.argmax(df['Men'])],linestyle ='--',color = 'red',label='Mode')\n",
    "plt.legend()\n",
    "\n",
    "# Show the plot\n",
    "plt.xlim(right = 54000)\n",
    "plt.show()\n"
   ]
  },
  {
   "cell_type": "code",
   "execution_count": 12,
   "metadata": {},
   "outputs": [
    {
     "data": {
      "text/plain": [
       "(0.0, 54000.0)"
      ]
     },
     "execution_count": 12,
     "metadata": {},
     "output_type": "execute_result"
    },
    {
     "data": {
      "image/png": "[encoded data removed]",
      "text/plain": [
       "<Figure size 640x480 with 1 Axes>"
      ]
     },
     "metadata": {},
     "output_type": "display_data"
    }
   ],
   "source": [
    "bins = np.append(df['Lower Limit'],100000)\n",
    "plt.hist(bins[:-1],bins,weights=df['Women'],edgecolor = 'black')\n",
    "plt.xlim(0,54000)"
   ]
  },
  {
   "cell_type": "code",
   "execution_count": 25,
   "metadata": {},
   "outputs": [
    {
     "data": {
      "image/png": "[encoded data removed]",
      "text/plain": [
       "<Figure size 640x480 with 1 Axes>"
      ]
     },
     "metadata": {},
     "output_type": "display_data"
    }
   ],
   "source": [
    "\n",
    "# Add labels and title\n",
    "plt.xlabel('Values')\n",
    "plt.ylabel('Frequency')\n",
    "plt.title('Histogram with Appealing Features')\n",
    "\n",
    "# Add grid lines\n",
    "plt.grid(axis='y', linestyle='--', alpha=0.7)\n",
    "plt.plot(df['Midpoint'], df['Women'], color='orange', marker='o', linestyle='-', linewidth=2, markersize=8, label='Line Plot')\n",
    "plt.hist(bins[:-1],bins,weights=df['Women'],edgecolor = 'black')\n",
    "\n",
    "\n",
    "# Add a legend\n",
    "plt.axvline(calculate_percentile_women(df,50),label='Median',linestyle='--',color = 'green')\n",
    "plt.axvline(df['Midpoint'][np.argmax(df['Women'])],linestyle ='--',color = 'red',label='Mode')\n",
    "plt.legend()\n",
    "\n",
    "# Show the plot\n",
    "plt.xlim(right = 54000)\n",
    "plt.show()\n"
   ]
  },
  {
   "cell_type": "code",
   "execution_count": 13,
   "metadata": {},
   "outputs": [],
   "source": [
    "\n",
    "def calculate_percentile_men(df,p):\n",
    "    # Calculate the position of the quartile\n",
    "    p_position = df['cumsum_men'].iloc[-1] * (p * 0.01)\n",
    "\n",
    "    # Find the index corresponding to the quartile position\n",
    "    p_index = np.argmax(df['cumsum_men'] >= p_position)\n",
    "\n",
    "    # Extract relevant values from the DataFrame\n",
    "    cf = df['cumsum_men'].iloc[p_index - 1]\n",
    "    lower_limit_p = df['Lower Limit'].iloc[p_index]\n",
    "    upper_limit_p = df['Lower Limit'].iloc[p_index + 1]\n",
    "    class_freq = df['Men'].iloc[p_index]\n",
    "\n",
    "    # Calculate the quartile using interpolation\n",
    "    percentile = lower_limit_p + (p_position - cf) * (upper_limit_p - lower_limit_p) / class_freq\n",
    "\n",
    "    return percentile\n",
    "\n",
    "\n",
    "\n",
    "def calculate_percentile_women(df,p):\n",
    "    # Calculate the position of the quartile\n",
    "    p_position = df['cumsum_women'].iloc[-1] * (p * 0.01)\n",
    "\n",
    "    # Find the index corresponding to the quartile position\n",
    "    p_index = np.argmax(df['cumsum_women'] >= p_position)\n",
    "\n",
    "    # Extract relevant values from the DataFrame\n",
    "    cf = df['cumsum_women'].iloc[p_index - 1]\n",
    "    lower_limit_p = df['Lower Limit'].iloc[p_index]\n",
    "    upper_limit_p = df['Lower Limit'].iloc[p_index + 1]\n",
    "    class_freq = df['Women'].iloc[p_index]\n",
    "\n",
    "    # Calculate the quartile using interpolation\n",
    "    percentile = lower_limit_p + (p_position - cf) * (upper_limit_p - lower_limit_p) / class_freq\n",
    "\n",
    "    return percentile"
   ]
  },
  {
   "cell_type": "code",
   "execution_count": 14,
   "metadata": {},
   "outputs": [
    {
     "name": "stdout",
     "output_type": "stream",
     "text": [
      "25th percentile for men: 15732.706539797613\n",
      "25th percentile for women: 11053.540587219344\n"
     ]
    }
   ],
   "source": [
    "print('25th percentile for men:',calculate_percentile_men(df,25))\n",
    "print('25th percentile for women:',calculate_percentile_women(df,25))"
   ]
  },
  {
   "cell_type": "code",
   "execution_count": 15,
   "metadata": {},
   "outputs": [
    {
     "name": "stdout",
     "output_type": "stream",
     "text": [
      "75th percentile for men: 39858.98278918177\n",
      "75th percentile for women: 22233.782129742962\n"
     ]
    }
   ],
   "source": [
    "print('75th percentile for men:',calculate_percentile_men(df,75))\n",
    "print('75th percentile for women:',calculate_percentile_women(df,75))"
   ]
  },
  {
   "cell_type": "code",
   "execution_count": 16,
   "metadata": {},
   "outputs": [
    {
     "name": "stdout",
     "output_type": "stream",
     "text": [
      "Median for men: 24345.914396887158\n",
      "Median for women: 15763.584205197436\n"
     ]
    }
   ],
   "source": [
    "print('Median for men:',calculate_percentile_men(df,50))\n",
    "print('Median for women:',calculate_percentile_women(df,50))"
   ]
  },
  {
   "cell_type": "code",
   "execution_count": 17,
   "metadata": {},
   "outputs": [
    {
     "name": "stdout",
     "output_type": "stream",
     "text": [
      "Mode for men: 37499.5\n",
      "Mode for women: 12499.5\n"
     ]
    }
   ],
   "source": [
    "print('Mode for men:',df['Midpoint'][np.argmax(df['Men'])])\n",
    "print('Mode for women:',df['Midpoint'][np.argmax(df['Women'])])"
   ]
  },
  {
   "cell_type": "code",
   "execution_count": 439,
   "metadata": {},
   "outputs": [
    {
     "name": "stderr",
     "output_type": "stream",
     "text": [
      "C:\\Users\\kakut\\AppData\\Local\\Temp\\ipykernel_7712\\644949682.py:1: RuntimeWarning: invalid value encountered in double_scalars\n",
      "  var_men = (np.sum(df['Men']*df['Midpoint']**2)          -          (np.sum(df['Men']*df['Midpoint'])**2))/2/(df['cumsum_men'].iloc[-1]-1)\n"
     ]
    },
    {
     "data": {
      "text/plain": [
       "5.313066666666669"
      ]
     },
     "execution_count": 439,
     "metadata": {},
     "output_type": "execute_result"
    }
   ],
   "source": [
    "var_men = (np.sum(df['Men']*df['Midpoint']**2)-(np.sum(df['Men']*df['Midpoint'])**2))/2/(df['cumsum_men'].iloc[-1]-1)\n",
    "var"
   ]
  },
  {
   "cell_type": "code",
   "execution_count": 19,
   "metadata": {},
   "outputs": [],
   "source": [
    "f = [57,49,50,54,61,64,47,51,57,50,55,60,57,48,55,62,58,65,54,43,57,52,42,55,61,56,51,56,54,46,56,61,68,54,55,52,51,49,51,69,65]"
   ]
  },
  {
   "cell_type": "code",
   "execution_count": 20,
   "metadata": {},
   "outputs": [
    {
     "data": {
      "image/png": "[encoded data removed]",
      "text/plain": [
       "<Figure size 640x480 with 1 Axes>"
      ]
     },
     "metadata": {},
     "output_type": "display_data"
    }
   ],
   "source": [
    "n,bins,patches = plt.hist(x=f,edgecolor='black')"
   ]
  },
  {
   "cell_type": "code",
   "execution_count": 21,
   "metadata": {},
   "outputs": [
    {
     "data": {
      "text/html": [
       "<div>\n",
       "<style scoped>\n",
       "    .dataframe tbody tr th:only-of-type {\n",
       "        vertical-align: middle;\n",
       "    }\n",
       "\n",
       "    .dataframe tbody tr th {\n",
       "        vertical-align: top;\n",
       "    }\n",
       "\n",
       "    .dataframe thead th {\n",
       "        text-align: right;\n",
       "    }\n",
       "</style>\n",
       "<table border=\"1\" class=\"dataframe\">\n",
       "  <thead>\n",
       "    <tr style=\"text-align: right;\">\n",
       "      <th></th>\n",
       "      <th>Lower Limit</th>\n",
       "      <th>Upper Limit</th>\n",
       "      <th>Freq</th>\n",
       "      <th>Midpoint</th>\n",
       "      <th>cumsum</th>\n",
       "    </tr>\n",
       "  </thead>\n",
       "  <tbody>\n",
       "    <tr>\n",
       "      <th>0</th>\n",
       "      <td>42.0</td>\n",
       "      <td>44.7</td>\n",
       "      <td>2.0</td>\n",
       "      <td>43.35</td>\n",
       "      <td>2.0</td>\n",
       "    </tr>\n",
       "    <tr>\n",
       "      <th>1</th>\n",
       "      <td>44.7</td>\n",
       "      <td>47.4</td>\n",
       "      <td>2.0</td>\n",
       "      <td>46.05</td>\n",
       "      <td>4.0</td>\n",
       "    </tr>\n",
       "    <tr>\n",
       "      <th>2</th>\n",
       "      <td>47.4</td>\n",
       "      <td>50.1</td>\n",
       "      <td>5.0</td>\n",
       "      <td>48.75</td>\n",
       "      <td>9.0</td>\n",
       "    </tr>\n",
       "    <tr>\n",
       "      <th>3</th>\n",
       "      <td>50.1</td>\n",
       "      <td>52.8</td>\n",
       "      <td>6.0</td>\n",
       "      <td>51.45</td>\n",
       "      <td>15.0</td>\n",
       "    </tr>\n",
       "    <tr>\n",
       "      <th>4</th>\n",
       "      <td>52.8</td>\n",
       "      <td>55.5</td>\n",
       "      <td>8.0</td>\n",
       "      <td>54.15</td>\n",
       "      <td>23.0</td>\n",
       "    </tr>\n",
       "    <tr>\n",
       "      <th>5</th>\n",
       "      <td>55.5</td>\n",
       "      <td>58.2</td>\n",
       "      <td>8.0</td>\n",
       "      <td>56.85</td>\n",
       "      <td>31.0</td>\n",
       "    </tr>\n",
       "    <tr>\n",
       "      <th>6</th>\n",
       "      <td>58.2</td>\n",
       "      <td>60.9</td>\n",
       "      <td>1.0</td>\n",
       "      <td>59.55</td>\n",
       "      <td>32.0</td>\n",
       "    </tr>\n",
       "    <tr>\n",
       "      <th>7</th>\n",
       "      <td>60.9</td>\n",
       "      <td>63.6</td>\n",
       "      <td>4.0</td>\n",
       "      <td>62.25</td>\n",
       "      <td>36.0</td>\n",
       "    </tr>\n",
       "    <tr>\n",
       "      <th>8</th>\n",
       "      <td>63.6</td>\n",
       "      <td>66.3</td>\n",
       "      <td>3.0</td>\n",
       "      <td>64.95</td>\n",
       "      <td>39.0</td>\n",
       "    </tr>\n",
       "    <tr>\n",
       "      <th>9</th>\n",
       "      <td>66.3</td>\n",
       "      <td>69.0</td>\n",
       "      <td>2.0</td>\n",
       "      <td>67.65</td>\n",
       "      <td>41.0</td>\n",
       "    </tr>\n",
       "  </tbody>\n",
       "</table>\n",
       "</div>"
      ],
      "text/plain": [
       "   Lower Limit  Upper Limit  Freq  Midpoint  cumsum\n",
       "0         42.0         44.7   2.0     43.35     2.0\n",
       "1         44.7         47.4   2.0     46.05     4.0\n",
       "2         47.4         50.1   5.0     48.75     9.0\n",
       "3         50.1         52.8   6.0     51.45    15.0\n",
       "4         52.8         55.5   8.0     54.15    23.0\n",
       "5         55.5         58.2   8.0     56.85    31.0\n",
       "6         58.2         60.9   1.0     59.55    32.0\n",
       "7         60.9         63.6   4.0     62.25    36.0\n",
       "8         63.6         66.3   3.0     64.95    39.0\n",
       "9         66.3         69.0   2.0     67.65    41.0"
      ]
     },
     "execution_count": 21,
     "metadata": {},
     "output_type": "execute_result"
    }
   ],
   "source": [
    "df = pd.DataFrame({'Lower Limit':bins[:-1],'Upper Limit':bins[1:],'Freq':n})\n",
    "df['Midpoint'] = (df['Lower Limit']+df['Upper Limit'])/2\n",
    "df['cumsum'] = df['Freq'].cumsum()\n",
    "df"
   ]
  },
  {
   "cell_type": "code",
   "execution_count": 22,
   "metadata": {},
   "outputs": [
    {
     "name": "stdout",
     "output_type": "stream",
     "text": [
      "Mean: 55.0719512195122\n",
      "Median: 54.65625\n",
      "Mode: 54.15\n",
      "Standard Deviation: 6.26653909228387\n",
      "Skewness: 0.1986160750052436\n"
     ]
    }
   ],
   "source": [
    "mean = np.sum(df['Freq']*df['Midpoint'])/df['cumsum'].iloc[-1]\n",
    "median = calculate_percentile(df,50)\n",
    "mode = df['Midpoint'][np.argmax(df['Freq'])]\n",
    "var = np.var(f,ddof=1)\n",
    "std = np.std(f,ddof=1)\n",
    "skewness = np.mean((f - mean) ** 3) / std**3\n",
    "print('Mean:',mean)\n",
    "print('Median:',median)\n",
    "print('Mode:',mode)\n",
    "print('Standard Deviation:',std)\n",
    "print('Skewness:',skewness)"
   ]
  },
  {
   "cell_type": "code",
   "execution_count": 26,
   "metadata": {},
   "outputs": [
    {
     "data": {
      "image/png": "[encoded data removed]",
      "text/plain": [
       "<Figure size 640x480 with 1 Axes>"
      ]
     },
     "metadata": {},
     "output_type": "display_data"
    }
   ],
   "source": [
    "# Add labels and title\n",
    "plt.xlabel('Values')\n",
    "plt.ylabel('Frequency')\n",
    "plt.title('Histogram with Appealing Features')\n",
    "\n",
    "# Add grid lines\n",
    "plt.grid(axis='y', linestyle='--', alpha=0.7)\n",
    "plt.plot(df['Midpoint'], df['Freq'], color='orange', marker='o', linestyle='-', linewidth=2, markersize=8, label='Line Plot')\n",
    "plt.hist(f,color='purple', edgecolor='black', alpha=0.7)\n",
    "\n",
    "\n",
    "# Add a legend\n",
    "plt.axvline(median,label='Median',linestyle='--',color = 'green')\n",
    "plt.axvline(mean,label='mean',linestyle='--',color = 'blue')\n",
    "plt.axvline(df['Midpoint'][np.argmax(df['Freq'])],linestyle ='--',color = 'red',label='Mode')\n",
    "plt.legend()\n",
    "\n",
    "# Show the plot\n",
    "plt.show()"
   ]
  },
  {
   "cell_type": "code",
   "execution_count": null,
   "metadata": {},
   "outputs": [],
   "source": []
  }
 ],
 "metadata": {
  "kernelspec": {
   "display_name": "base",
   "language": "python",
   "name": "python3"
  },
  "language_info": {
   "codemirror_mode": {
    "name": "ipython",
    "version": 3
   },
   "file_extension": ".py",
   "mimetype": "text/x-python",
   "name": "python",
   "nbconvert_exporter": "python",
   "pygments_lexer": "ipython3",
   "version": "3.10.9"
  }
 },
 "nbformat": 4,
 "nbformat_minor": 2
}
